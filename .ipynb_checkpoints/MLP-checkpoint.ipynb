{
 "cells": [
  {
   "cell_type": "code",
   "execution_count": 80,
   "id": "regular-washington",
   "metadata": {
    "ExecuteTime": {
     "end_time": "2021-06-10T13:09:18.380230Z",
     "start_time": "2021-06-10T13:09:18.346194Z"
    }
   },
   "outputs": [],
   "source": [
    "import jieba\n",
    "import gensim\n",
    "\n",
    "import matplotlib.pyplot as plt\n",
    "import numpy as np\n",
    "\n",
    "from utils.data_loader import load_data\n",
    "from tqdm import tqdm"
   ]
  },
  {
   "cell_type": "code",
   "execution_count": 63,
   "id": "exact-magic",
   "metadata": {
    "ExecuteTime": {
     "end_time": "2021-06-10T13:00:16.105696Z",
     "start_time": "2021-06-10T13:00:16.036946Z"
    }
   },
   "outputs": [
    {
     "name": "stdout",
     "output_type": "stream",
     "text": [
      "加载完成，测试集比例0.2\n",
      "训练集37884条\n",
      "测试集9472条\n"
     ]
    }
   ],
   "source": [
    "train,test=load_data()"
   ]
  },
  {
   "cell_type": "markdown",
   "id": "recreational-provision",
   "metadata": {},
   "source": [
    "# processing"
   ]
  },
  {
   "cell_type": "markdown",
   "id": "focal-pledge",
   "metadata": {},
   "source": [
    "分词"
   ]
  },
  {
   "cell_type": "code",
   "execution_count": 26,
   "id": "russian-volume",
   "metadata": {
    "ExecuteTime": {
     "end_time": "2021-06-10T08:56:35.201691Z",
     "start_time": "2021-06-10T08:56:35.191683Z"
    }
   },
   "outputs": [
    {
     "data": {
      "text/plain": [
       "'赵薇的扮相真好看，知性优雅大气'"
      ]
     },
     "execution_count": 26,
     "metadata": {},
     "output_type": "execute_result"
    }
   ],
   "source": [
    "train[0][0]"
   ]
  },
  {
   "cell_type": "code",
   "execution_count": 28,
   "id": "assigned-tuning",
   "metadata": {
    "ExecuteTime": {
     "end_time": "2021-06-10T08:57:47.170452Z",
     "start_time": "2021-06-10T08:57:46.472560Z"
    }
   },
   "outputs": [
    {
     "name": "stderr",
     "output_type": "stream",
     "text": [
      "Building prefix dict from the default dictionary ...\n",
      "Dumping model to file cache C:\\Users\\liufeng\\AppData\\Local\\Temp\\jieba.cache\n",
      "Loading model cost 0.684 seconds.\n",
      "Prefix dict has been built succesfully.\n"
     ]
    },
    {
     "data": {
      "text/plain": [
       "['赵薇', '的', '扮相', '真', '好看', '，', '知性', '优雅', '大气']"
      ]
     },
     "execution_count": 28,
     "metadata": {},
     "output_type": "execute_result"
    }
   ],
   "source": []
  },
  {
   "cell_type": "code",
   "execution_count": 71,
   "id": "disturbed-recruitment",
   "metadata": {
    "ExecuteTime": {
     "end_time": "2021-06-10T13:03:17.185811Z",
     "start_time": "2021-06-10T13:03:17.178825Z"
    }
   },
   "outputs": [],
   "source": [
    "def load_stopwords(path_to_file):\n",
    "    stop_words=set()\n",
    "    with open(path_to_file,encoding=\"utf-8\") as f:\n",
    "        content=f.readlines()\n",
    "    for word in content:\n",
    "        stop_words.add(word.strip('\\n'))\n",
    "        \n",
    "    return stop_words"
   ]
  },
  {
   "cell_type": "code",
   "execution_count": 68,
   "id": "cooked-wrist",
   "metadata": {
    "ExecuteTime": {
     "end_time": "2021-06-10T13:02:59.454357Z",
     "start_time": "2021-06-10T13:02:59.441342Z"
    }
   },
   "outputs": [],
   "source": [
    "def cut_sentence(sentence):\n",
    "    \"\"\"\n",
    "    分词，去停用词，返回一个列表\n",
    "    \"\"\"\n",
    "    result=[]\n",
    "    for word in jieba.lcut(sentence):\n",
    "        if word not in stop_words:\n",
    "            result.append(word)\n",
    "            \n",
    "    return result"
   ]
  },
  {
   "cell_type": "code",
   "execution_count": 23,
   "id": "neutral-greene",
   "metadata": {
    "ExecuteTime": {
     "end_time": "2021-06-10T12:26:53.618126Z",
     "start_time": "2021-06-10T12:26:53.603046Z"
    }
   },
   "outputs": [],
   "source": [
    "def load_word2vec(path_to_file):\n",
    "    return gensim.models.KeyedVectors.load_word2vec_format(path_to_file,binary=False)"
   ]
  },
  {
   "cell_type": "code",
   "execution_count": 49,
   "id": "returning-experiment",
   "metadata": {
    "ExecuteTime": {
     "end_time": "2021-06-10T12:55:52.000358Z",
     "start_time": "2021-06-10T12:55:51.987350Z"
    }
   },
   "outputs": [],
   "source": [
    "def random_vector(seed):\n",
    "    np.random.seed(seed)\n",
    "    vec=-1 + 2*np.random.random((300))\n",
    "    vec.dtype='float32'\n",
    "    \n",
    "    return vec"
   ]
  },
  {
   "cell_type": "code",
   "execution_count": 60,
   "id": "naked-outdoors",
   "metadata": {
    "ExecuteTime": {
     "end_time": "2021-06-10T12:59:53.022206Z",
     "start_time": "2021-06-10T12:59:53.004209Z"
    }
   },
   "outputs": [],
   "source": [
    "def get_vector(word,seed=108):\n",
    "    try:\n",
    "        return word2vec[word]\n",
    "    except:\n",
    "        return random_vector(seed)"
   ]
  },
  {
   "cell_type": "code",
   "execution_count": 72,
   "id": "provincial-dover",
   "metadata": {
    "ExecuteTime": {
     "end_time": "2021-06-10T13:03:22.326365Z",
     "start_time": "2021-06-10T13:03:22.307846Z"
    }
   },
   "outputs": [],
   "source": [
    "stop_words=load_stopwords('./src/hit_stopwords.txt')"
   ]
  },
  {
   "cell_type": "code",
   "execution_count": 31,
   "id": "fluid-labor",
   "metadata": {
    "ExecuteTime": {
     "end_time": "2021-06-10T09:09:41.179938Z",
     "start_time": "2021-06-10T09:09:41.165923Z"
    }
   },
   "outputs": [],
   "source": [
    "word2vec=load_word2vec('../sgns.zhihu.word.bz2')"
   ]
  },
  {
   "cell_type": "code",
   "execution_count": 13,
   "id": "revised-while",
   "metadata": {
    "ExecuteTime": {
     "end_time": "2021-06-10T12:22:48.052110Z",
     "start_time": "2021-06-10T12:22:48.045114Z"
    }
   },
   "outputs": [],
   "source": []
  },
  {
   "cell_type": "code",
   "execution_count": 50,
   "id": "otherwise-passenger",
   "metadata": {
    "ExecuteTime": {
     "end_time": "2021-06-10T12:56:21.299413Z",
     "start_time": "2021-06-10T12:56:21.289425Z"
    }
   },
   "outputs": [],
   "source": []
  },
  {
   "cell_type": "code",
   "execution_count": 61,
   "id": "recorded-possible",
   "metadata": {
    "ExecuteTime": {
     "end_time": "2021-06-10T13:00:09.768718Z",
     "start_time": "2021-06-10T13:00:09.747720Z"
    }
   },
   "outputs": [
    {
     "ename": "NameError",
     "evalue": "name 'train' is not defined",
     "output_type": "error",
     "traceback": [
      "\u001b[1;31m---------------------------------------------------------------------------\u001b[0m",
      "\u001b[1;31mNameError\u001b[0m                                 Traceback (most recent call last)",
      "\u001b[1;32m<ipython-input-61-0467bad5b08d>\u001b[0m in \u001b[0;36m<module>\u001b[1;34m\u001b[0m\n\u001b[1;32m----> 1\u001b[1;33m \u001b[0mlen\u001b[0m\u001b[1;33m(\u001b[0m\u001b[0mtrain\u001b[0m\u001b[1;33m)\u001b[0m\u001b[1;33m\u001b[0m\u001b[0m\n\u001b[0m",
      "\u001b[1;31mNameError\u001b[0m: name 'train' is not defined"
     ]
    }
   ],
   "source": [
    "len(train)"
   ]
  },
  {
   "cell_type": "code",
   "execution_count": 66,
   "id": "fantastic-group",
   "metadata": {
    "ExecuteTime": {
     "end_time": "2021-06-10T13:01:36.533832Z",
     "start_time": "2021-06-10T13:01:36.523841Z"
    }
   },
   "outputs": [],
   "source": [
    "train_test=[]"
   ]
  },
  {
   "cell_type": "code",
   "execution_count": 76,
   "id": "furnished-chicago",
   "metadata": {
    "ExecuteTime": {
     "end_time": "2021-06-10T13:05:02.533724Z",
     "start_time": "2021-06-10T13:05:02.526735Z"
    }
   },
   "outputs": [],
   "source": [
    "def sentence2vector(word_list):\n",
    "    result=[]\n",
    "    for w in word_list:\n",
    "        result.append(get_vector(w))\n",
    "        \n",
    "    return result"
   ]
  },
  {
   "cell_type": "code",
   "execution_count": 78,
   "id": "tender-diagram",
   "metadata": {
    "ExecuteTime": {
     "end_time": "2021-06-10T13:05:19.531650Z",
     "start_time": "2021-06-10T13:05:19.515640Z"
    }
   },
   "outputs": [
    {
     "data": {
      "text/plain": [
       "7"
      ]
     },
     "execution_count": 78,
     "metadata": {},
     "output_type": "execute_result"
    }
   ],
   "source": [
    "len(sentence2vector(cut_sentence(train[0][0])))"
   ]
  },
  {
   "cell_type": "code",
   "execution_count": 117,
   "id": "copyrighted-empire",
   "metadata": {
    "ExecuteTime": {
     "end_time": "2021-06-10T13:24:56.481837Z",
     "start_time": "2021-06-10T13:24:56.473838Z"
    }
   },
   "outputs": [],
   "source": [
    "# 向量化\n",
    "def vectorize(dataset):\n",
    "    dataset_new=[]\n",
    "    for d in tqdm(dataset):\n",
    "        dataset_new.append(sentence2vector(cut_sentence(d[0])))\n",
    "        \n",
    "    return dataset_new\n",
    "\n",
    "# 截断和补0\n",
    "padding=np.zeros(300,dtype='float32')\n",
    "\n",
    "def unify(dataset,max_len):\n",
    "    for i in tqdm(range(len(dataset))):\n",
    "        if len(dataset[i])==max_len:\n",
    "            pass\n",
    "        elif len(dataset[i])<max_len:\n",
    "            while(len(dataset[i])!=max_len):\n",
    "                dataset[i].append(padding)\n",
    "        else:\n",
    "            dataset[i]=dataset[i][:max_len]"
   ]
  },
  {
   "cell_type": "code",
   "execution_count": 85,
   "id": "herbal-ready",
   "metadata": {
    "ExecuteTime": {
     "end_time": "2021-06-10T13:10:48.037295Z",
     "start_time": "2021-06-10T13:10:40.794724Z"
    }
   },
   "outputs": [
    {
     "name": "stderr",
     "output_type": "stream",
     "text": [
      "100%|██████████████████████████████████████████████████████████████████████████████████████████████████| 37884/37884 [00:07<00:00, 5240.33it/s]\n"
     ]
    }
   ],
   "source": [
    "train_data=vectorize(train)"
   ]
  },
  {
   "cell_type": "code",
   "execution_count": 118,
   "id": "designed-therapist",
   "metadata": {
    "ExecuteTime": {
     "end_time": "2021-06-10T13:25:22.478233Z",
     "start_time": "2021-06-10T13:25:22.382193Z"
    }
   },
   "outputs": [
    {
     "name": "stderr",
     "output_type": "stream",
     "text": [
      "100%|████████████████████████████████████████████████████████████████████████████████████████████████| 37884/37884 [00:00<00:00, 425578.62it/s]\n"
     ]
    }
   ],
   "source": [
    "unify(train_data,30)"
   ]
  },
  {
   "cell_type": "code",
   "execution_count": null,
   "id": "greek-treasury",
   "metadata": {},
   "outputs": [],
   "source": []
  },
  {
   "cell_type": "code",
   "execution_count": null,
   "id": "curious-kenya",
   "metadata": {},
   "outputs": [],
   "source": []
  },
  {
   "cell_type": "code",
   "execution_count": null,
   "id": "crazy-academy",
   "metadata": {},
   "outputs": [],
   "source": []
  }
 ],
 "metadata": {
  "kernelspec": {
   "display_name": "Python 3",
   "language": "python",
   "name": "python3"
  },
  "language_info": {
   "codemirror_mode": {
    "name": "ipython",
    "version": 3
   },
   "file_extension": ".py",
   "mimetype": "text/x-python",
   "name": "python",
   "nbconvert_exporter": "python",
   "pygments_lexer": "ipython3",
   "version": "3.7.0"
  }
 },
 "nbformat": 4,
 "nbformat_minor": 5
}
