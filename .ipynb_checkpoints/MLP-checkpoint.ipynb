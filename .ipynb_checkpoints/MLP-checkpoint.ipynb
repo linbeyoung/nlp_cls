{
 "cells": [
  {
   "cell_type": "code",
   "execution_count": 1,
   "id": "unlike-humanitarian",
   "metadata": {
    "ExecuteTime": {
     "end_time": "2021-06-14T03:47:05.011261Z",
     "start_time": "2021-06-14T03:45:36.972739Z"
    }
   },
   "outputs": [
    {
     "name": "stderr",
     "output_type": "stream",
     "text": [
      "C:\\Users\\liufeng\\.conda\\envs\\pytorch\\lib\\site-packages\\gensim\\similarities\\__init__.py:15: UserWarning: The gensim.similarities.levenshtein submodule is disabled, because the optional Levenshtein package <https://pypi.org/project/python-Levenshtein/> is unavailable. Install Levenhstein (e.g. `pip install python-Levenshtein`) to suppress this warning.\n",
      "  warnings.warn(msg)\n"
     ]
    },
    {
     "name": "stdout",
     "output_type": "stream",
     "text": [
      "加载词向量...\n"
     ]
    }
   ],
   "source": [
    "import tensorflow as tf\n",
    "\n",
    "from tensorflow.keras.layers import Dense, Flatten\n",
    "from utils.lf.load_data import load_data_mlp"
   ]
  },
  {
   "cell_type": "code",
   "execution_count": 2,
   "id": "guided-debate",
   "metadata": {
    "ExecuteTime": {
     "end_time": "2021-06-14T03:47:18.979312Z",
     "start_time": "2021-06-14T03:47:05.013278Z"
    }
   },
   "outputs": [
    {
     "name": "stderr",
     "output_type": "stream",
     "text": [
      "  0%|                                                                                                                | 0/37884 [00:00<?, ?it/s]Building prefix dict from the default dictionary ...\n",
      "Loading model from cache C:\\Users\\liufeng\\AppData\\Local\\Temp\\jieba.cache\n"
     ]
    },
    {
     "name": "stdout",
     "output_type": "stream",
     "text": [
      "加载完成，测试集比例0.2\n",
      "训练集37884条\n",
      "测试集9472条\n"
     ]
    },
    {
     "name": "stderr",
     "output_type": "stream",
     "text": [
      "Loading model cost 0.601 seconds.\n",
      "Prefix dict has been built succesfully.\n",
      "100%|██████████████████████████████████████████████████████████████████████████████████████████████████| 37884/37884 [00:07<00:00, 4882.99it/s]\n",
      "100%|████████████████████████████████████████████████████████████████████████████████████████████████| 37884/37884 [00:00<00:00, 440414.13it/s]\n",
      "100%|████████████████████████████████████████████████████████████████████████████████████████████████████| 9472/9472 [00:01<00:00, 5227.57it/s]\n",
      "100%|██████████████████████████████████████████████████████████████████████████████████████████████████| 9472/9472 [00:00<00:00, 450670.96it/s]\n",
      "100%|█████████████████████████████████████████████████████████████████████████████████████████████████| 37884/37884 [00:01<00:00, 32877.84it/s]\n",
      "100%|███████████████████████████████████████████████████████████████████████████████████████████████████| 9472/9472 [00:00<00:00, 31585.29it/s]\n"
     ]
    }
   ],
   "source": [
    "(x_train,y_train),(x_test,y_test)=load_data_mlp()"
   ]
  },
  {
   "cell_type": "code",
   "execution_count": 3,
   "id": "elementary-style",
   "metadata": {
    "ExecuteTime": {
     "end_time": "2021-06-14T03:47:48.905690Z",
     "start_time": "2021-06-14T03:47:48.888706Z"
    }
   },
   "outputs": [],
   "source": [
    "MLP=tf.keras.models.Sequential([\n",
    "    Flatten(),\n",
    "    Dense(128,activation='relu'),\n",
    "    Dense(64,activation='relu'),\n",
    "    Dense(4,activation='softmax')\n",
    "])"
   ]
  },
  {
   "cell_type": "code",
   "execution_count": 4,
   "id": "hawaiian-soviet",
   "metadata": {
    "ExecuteTime": {
     "end_time": "2021-06-14T03:47:49.749594Z",
     "start_time": "2021-06-14T03:47:49.737585Z"
    }
   },
   "outputs": [],
   "source": [
    "MLP.compile(\n",
    "    optimizer='adam',\n",
    "    loss=tf.keras.losses.SparseCategoricalCrossentropy(from_logits=False),\n",
    "    metrics=['sparse_categorical_accuracy']\n",
    ")"
   ]
  },
  {
   "cell_type": "code",
   "execution_count": 5,
   "id": "favorite-problem",
   "metadata": {
    "ExecuteTime": {
     "end_time": "2021-06-14T03:49:22.989706Z",
     "start_time": "2021-06-14T03:47:51.277257Z"
    }
   },
   "outputs": [
    {
     "name": "stdout",
     "output_type": "stream",
     "text": [
      "Train on 37884 samples, validate on 9472 samples\n",
      "Epoch 1/20\n",
      "37884/37884 [==============================] - 5s 133us/sample - loss: 0.3286 - sparse_categorical_accuracy: 0.8782 - val_loss: 0.2924 - val_sparse_categorical_accuracy: 0.8953\n",
      "Epoch 2/20\n",
      "37884/37884 [==============================] - 4s 114us/sample - loss: 0.2076 - sparse_categorical_accuracy: 0.9249 - val_loss: 0.2795 - val_sparse_categorical_accuracy: 0.9030\n",
      "Epoch 3/20\n",
      "37884/37884 [==============================] - 4s 113us/sample - loss: 0.1582 - sparse_categorical_accuracy: 0.9419 - val_loss: 0.3016 - val_sparse_categorical_accuracy: 0.9056\n",
      "Epoch 4/20\n",
      "37884/37884 [==============================] - 4s 114us/sample - loss: 0.1214 - sparse_categorical_accuracy: 0.9568 - val_loss: 0.3315 - val_sparse_categorical_accuracy: 0.9020\n",
      "Epoch 5/20\n",
      "37884/37884 [==============================] - 4s 114us/sample - loss: 0.0853 - sparse_categorical_accuracy: 0.9698 - val_loss: 0.3953 - val_sparse_categorical_accuracy: 0.9026\n",
      "Epoch 6/20\n",
      "37884/37884 [==============================] - 4s 113us/sample - loss: 0.0699 - sparse_categorical_accuracy: 0.9747 - val_loss: 0.4363 - val_sparse_categorical_accuracy: 0.9032\n",
      "Epoch 7/20\n",
      "37884/37884 [==============================] - 4s 113us/sample - loss: 0.0570 - sparse_categorical_accuracy: 0.9798 - val_loss: 0.4806 - val_sparse_categorical_accuracy: 0.9034\n",
      "Epoch 8/20\n",
      "37884/37884 [==============================] - 4s 115us/sample - loss: 0.0447 - sparse_categorical_accuracy: 0.9835 - val_loss: 0.5171 - val_sparse_categorical_accuracy: 0.9056\n",
      "Epoch 9/20\n",
      "37884/37884 [==============================] - 4s 116us/sample - loss: 0.0398 - sparse_categorical_accuracy: 0.9861 - val_loss: 0.6947 - val_sparse_categorical_accuracy: 0.8959\n",
      "Epoch 10/20\n",
      "37884/37884 [==============================] - 4s 118us/sample - loss: 0.0345 - sparse_categorical_accuracy: 0.9880 - val_loss: 0.5938 - val_sparse_categorical_accuracy: 0.8990\n",
      "Epoch 11/20\n",
      "37884/37884 [==============================] - 4s 114us/sample - loss: 0.0360 - sparse_categorical_accuracy: 0.9877 - val_loss: 0.5886 - val_sparse_categorical_accuracy: 0.9013\n",
      "Epoch 12/20\n",
      "37884/37884 [==============================] - 4s 112us/sample - loss: 0.0314 - sparse_categorical_accuracy: 0.9893 - val_loss: 0.6578 - val_sparse_categorical_accuracy: 0.8983\n",
      "Epoch 13/20\n",
      "37884/37884 [==============================] - 4s 115us/sample - loss: 0.0270 - sparse_categorical_accuracy: 0.9908 - val_loss: 0.6240 - val_sparse_categorical_accuracy: 0.8986\n",
      "Epoch 14/20\n",
      "37884/37884 [==============================] - 4s 115us/sample - loss: 0.0253 - sparse_categorical_accuracy: 0.9916 - val_loss: 0.6515 - val_sparse_categorical_accuracy: 0.9038\n",
      "Epoch 15/20\n",
      "37884/37884 [==============================] - 4s 114us/sample - loss: 0.0269 - sparse_categorical_accuracy: 0.9913 - val_loss: 0.6617 - val_sparse_categorical_accuracy: 0.9052\n",
      "Epoch 16/20\n",
      "37884/37884 [==============================] - 4s 114us/sample - loss: 0.0204 - sparse_categorical_accuracy: 0.9925 - val_loss: 0.6798 - val_sparse_categorical_accuracy: 0.9021\n",
      "Epoch 17/20\n",
      "37884/37884 [==============================] - 4s 113us/sample - loss: 0.0250 - sparse_categorical_accuracy: 0.9919 - val_loss: 0.6640 - val_sparse_categorical_accuracy: 0.9019\n",
      "Epoch 18/20\n",
      "37884/37884 [==============================] - 4s 112us/sample - loss: 0.0228 - sparse_categorical_accuracy: 0.9926 - val_loss: 0.6302 - val_sparse_categorical_accuracy: 0.9040\n",
      "Epoch 19/20\n",
      "37884/37884 [==============================] - 4s 112us/sample - loss: 0.0183 - sparse_categorical_accuracy: 0.9933 - val_loss: 0.6970 - val_sparse_categorical_accuracy: 0.9066\n",
      "Epoch 20/20\n",
      "37884/37884 [==============================] - 4s 113us/sample - loss: 0.0171 - sparse_categorical_accuracy: 0.9942 - val_loss: 0.7055 - val_sparse_categorical_accuracy: 0.9055\n"
     ]
    },
    {
     "data": {
      "text/plain": [
       "<tensorflow.python.keras.callbacks.History at 0x275d0839588>"
      ]
     },
     "execution_count": 5,
     "metadata": {},
     "output_type": "execute_result"
    }
   ],
   "source": [
    "MLP.fit(x_train,y_train,batch_size=32,epochs=20,validation_data=(x_test,y_test),validation_freq=1)"
   ]
  },
  {
   "cell_type": "code",
   "execution_count": 6,
   "id": "military-analyst",
   "metadata": {
    "ExecuteTime": {
     "end_time": "2021-06-13T11:31:04.637821Z",
     "start_time": "2021-06-13T11:31:03.941676Z"
    }
   },
   "outputs": [],
   "source": [
    "p=tf.argmax(MLP.predict(x_test),axis=1)"
   ]
  },
  {
   "cell_type": "code",
   "execution_count": 30,
   "id": "defensive-taylor",
   "metadata": {
    "ExecuteTime": {
     "end_time": "2021-06-13T12:08:12.966936Z",
     "start_time": "2021-06-13T12:08:12.951946Z"
    }
   },
   "outputs": [],
   "source": [
    "def label_back(label):\n",
    "    label_new=label.tolist()\n",
    "    \n",
    "    for i in range(len(label_new)):\n",
    "        if label_new[i]==0:\n",
    "            label_new[i]=5\n",
    "            \n",
    "    return label_new"
   ]
  },
  {
   "cell_type": "code",
   "execution_count": 31,
   "id": "daily-oxygen",
   "metadata": {
    "ExecuteTime": {
     "end_time": "2021-06-13T12:08:45.484548Z",
     "start_time": "2021-06-13T12:08:45.453270Z"
    }
   },
   "outputs": [],
   "source": [
    "label_truth=label_back(y_test)\n",
    "label_predict=label_back(p.numpy())"
   ]
  },
  {
   "cell_type": "code",
   "execution_count": 32,
   "id": "theoretical-battery",
   "metadata": {
    "ExecuteTime": {
     "end_time": "2021-06-13T12:08:49.466918Z",
     "start_time": "2021-06-13T12:08:49.453921Z"
    },
    "scrolled": true
   },
   "outputs": [],
   "source": [
    "from utils.score import score"
   ]
  },
  {
   "cell_type": "code",
   "execution_count": 33,
   "id": "attended-fiber",
   "metadata": {
    "ExecuteTime": {
     "end_time": "2021-06-13T12:08:50.450218Z",
     "start_time": "2021-06-13T12:08:50.402625Z"
    }
   },
   "outputs": [
    {
     "data": {
      "text/html": [
       "<div>\n",
       "<style scoped>\n",
       "    .dataframe tbody tr th:only-of-type {\n",
       "        vertical-align: middle;\n",
       "    }\n",
       "\n",
       "    .dataframe tbody tr th {\n",
       "        vertical-align: top;\n",
       "    }\n",
       "\n",
       "    .dataframe thead th {\n",
       "        text-align: right;\n",
       "    }\n",
       "</style>\n",
       "<table border=\"1\" class=\"dataframe\">\n",
       "  <thead>\n",
       "    <tr style=\"text-align: right;\">\n",
       "      <th></th>\n",
       "      <th>Precision</th>\n",
       "      <th>Recall</th>\n",
       "      <th>F1</th>\n",
       "    </tr>\n",
       "  </thead>\n",
       "  <tbody>\n",
       "    <tr>\n",
       "      <th>军事新闻</th>\n",
       "      <td>0.95</td>\n",
       "      <td>0.93</td>\n",
       "      <td>0.94</td>\n",
       "    </tr>\n",
       "    <tr>\n",
       "      <th>体育新闻</th>\n",
       "      <td>0.96</td>\n",
       "      <td>0.94</td>\n",
       "      <td>0.95</td>\n",
       "    </tr>\n",
       "    <tr>\n",
       "      <th>晋江小说</th>\n",
       "      <td>0.87</td>\n",
       "      <td>0.92</td>\n",
       "      <td>0.89</td>\n",
       "    </tr>\n",
       "    <tr>\n",
       "      <th>电影短评</th>\n",
       "      <td>0.90</td>\n",
       "      <td>0.87</td>\n",
       "      <td>0.88</td>\n",
       "    </tr>\n",
       "    <tr>\n",
       "      <th>综合</th>\n",
       "      <td>0.90</td>\n",
       "      <td>0.90</td>\n",
       "      <td>0.90</td>\n",
       "    </tr>\n",
       "  </tbody>\n",
       "</table>\n",
       "</div>"
      ],
      "text/plain": [
       "      Precision  Recall    F1\n",
       "军事新闻       0.95    0.93  0.94\n",
       "体育新闻       0.96    0.94  0.95\n",
       "晋江小说       0.87    0.92  0.89\n",
       "电影短评       0.90    0.87  0.88\n",
       "综合         0.90    0.90  0.90"
      ]
     },
     "metadata": {},
     "output_type": "display_data"
    },
    {
     "name": "stdout",
     "output_type": "stream",
     "text": [
      "\n",
      "结果保存在mlp.txt\n"
     ]
    }
   ],
   "source": [
    "score(label_truth,label_predict,output_filename='mlp.txt')"
   ]
  },
  {
   "cell_type": "code",
   "execution_count": null,
   "id": "reverse-noise",
   "metadata": {},
   "outputs": [],
   "source": []
  },
  {
   "cell_type": "code",
   "execution_count": null,
   "id": "excess-surface",
   "metadata": {},
   "outputs": [],
   "source": []
  },
  {
   "cell_type": "code",
   "execution_count": null,
   "id": "foster-postcard",
   "metadata": {},
   "outputs": [],
   "source": []
  },
  {
   "cell_type": "code",
   "execution_count": null,
   "id": "peaceful-stage",
   "metadata": {},
   "outputs": [],
   "source": []
  },
  {
   "cell_type": "code",
   "execution_count": 9,
   "id": "collaborative-cinema",
   "metadata": {
    "ExecuteTime": {
     "end_time": "2021-06-14T03:54:06.562998Z",
     "start_time": "2021-06-14T03:54:06.220705Z"
    }
   },
   "outputs": [
    {
     "name": "stdout",
     "output_type": "stream",
     "text": [
      "INFO:tensorflow:Assets written to: ../model\\assets\n"
     ]
    }
   ],
   "source": [
    "tf.saved_model.save(MLP, \"../model\")"
   ]
  }
 ],
 "metadata": {
  "kernelspec": {
   "display_name": "Python 3",
   "language": "python",
   "name": "python3"
  },
  "language_info": {
   "codemirror_mode": {
    "name": "ipython",
    "version": 3
   },
   "file_extension": ".py",
   "mimetype": "text/x-python",
   "name": "python",
   "nbconvert_exporter": "python",
   "pygments_lexer": "ipython3",
   "version": "3.7.0"
  }
 },
 "nbformat": 4,
 "nbformat_minor": 5
}
