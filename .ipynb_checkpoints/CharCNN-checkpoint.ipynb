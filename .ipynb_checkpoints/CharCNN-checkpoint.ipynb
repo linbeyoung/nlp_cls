{
 "cells": [
  {
   "cell_type": "code",
   "execution_count": 1,
   "id": "internal-baking",
   "metadata": {
    "ExecuteTime": {
     "end_time": "2021-06-14T14:40:54.178960Z",
     "start_time": "2021-06-14T14:40:51.233737Z"
    }
   },
   "outputs": [],
   "source": [
    "import tensorflow as tf\n",
    "\n",
    "from tensorflow.keras.layers import Conv1D, BatchNormalization, Activation ,MaxPool1D, Dropout, Flatten, Dense\n",
    "from tensorflow.keras import Model\n",
    "\n",
    "from utils.lf.load_data_charcnn import load_data_charcnn"
   ]
  },
  {
   "cell_type": "code",
   "execution_count": 2,
   "id": "hispanic-plant",
   "metadata": {
    "ExecuteTime": {
     "end_time": "2021-06-14T14:40:56.064666Z",
     "start_time": "2021-06-14T14:40:55.346056Z"
    }
   },
   "outputs": [],
   "source": [
    "# 防止显存不足造成的程序终止\n",
    "from tensorflow.compat.v1 import ConfigProto\n",
    "from tensorflow.compat.v1 import InteractiveSession\n",
    "\n",
    "config = ConfigProto()\n",
    "config.gpu_options.allow_growth = True\n",
    "session = InteractiveSession(config=config)"
   ]
  },
  {
   "cell_type": "code",
   "execution_count": 6,
   "id": "raised-acoustic",
   "metadata": {
    "ExecuteTime": {
     "end_time": "2021-06-14T14:41:13.930992Z",
     "start_time": "2021-06-14T14:41:13.908347Z"
    }
   },
   "outputs": [],
   "source": [
    "class CNN(Model):\n",
    "    def __init__(self):\n",
    "        super(CNN, self).__init__()\n",
    "        self.c1 = Conv1D(filters=128, kernel_size=(7), padding='same')  \n",
    "        self.b1 = BatchNormalization()  \n",
    "        self.a1 = Activation('relu')  \n",
    "        self.p1 = MaxPool1D(pool_size=(2), strides=1, padding='same')  \n",
    "        self.d1 = Dropout(0.2)  \n",
    "        \n",
    "        self.c2 = Conv1D(filters=64, kernel_size=(3), padding='same')  \n",
    "        self.b2 = BatchNormalization()  \n",
    "        self.a2 = Activation('relu')  \n",
    "        self.p2 = MaxPool1D(pool_size=(2), strides=1, padding='same')  \n",
    "        self.d2 = Dropout(0.2)  \n",
    "\n",
    "        self.flatten = Flatten()\n",
    "        self.f1 = Dense(128, activation='relu')\n",
    "        self.d3 = Dropout(0.2)\n",
    "        self.f2 = Dense(64, activation='relu')\n",
    "        self.f3 = Dense(4, activation='softmax')\n",
    "\n",
    "    def call(self, x):\n",
    "        x = self.c1(x)\n",
    "        x = self.b1(x)\n",
    "        x = self.a1(x)\n",
    "        x = self.p1(x)\n",
    "        x = self.d1(x)\n",
    "        \n",
    "        x = self.c2(x)\n",
    "        x = self.b2(x)\n",
    "        x = self.a2(x)\n",
    "        x = self.p2(x)\n",
    "        x = self.d2(x)\n",
    "\n",
    "        x = self.flatten(x)\n",
    "        x = self.f1(x)\n",
    "        x = self.d3(x)\n",
    "        x = self.f2(x)\n",
    "        y = self.f3(x)\n",
    "        return y"
   ]
  },
  {
   "cell_type": "code",
   "execution_count": 4,
   "id": "chicken-display",
   "metadata": {
    "ExecuteTime": {
     "end_time": "2021-06-14T14:41:01.289530Z",
     "start_time": "2021-06-14T14:40:58.532893Z"
    }
   },
   "outputs": [
    {
     "name": "stderr",
     "output_type": "stream",
     "text": [
      " 44%|██████████████████████████████████████████▋                                                     | 16831/37884 [00:00<00:00, 167866.71it/s]"
     ]
    },
    {
     "name": "stdout",
     "output_type": "stream",
     "text": [
      "加载完成，测试集比例0.2\n",
      "训练集37884条\n",
      "测试集9472条\n"
     ]
    },
    {
     "name": "stderr",
     "output_type": "stream",
     "text": [
      "100%|████████████████████████████████████████████████████████████████████████████████████████████████| 37884/37884 [00:00<00:00, 163085.04it/s]\n",
      "5357it [00:00, 2681891.45it/s]\n"
     ]
    }
   ],
   "source": [
    "(x_train,y_train),(x_test,y_test)=load_data_charcnn()"
   ]
  },
  {
   "cell_type": "code",
   "execution_count": 7,
   "id": "genuine-greensboro",
   "metadata": {
    "ExecuteTime": {
     "end_time": "2021-06-14T14:41:16.539526Z",
     "start_time": "2021-06-14T14:41:16.522487Z"
    }
   },
   "outputs": [],
   "source": [
    "model=CNN()"
   ]
  },
  {
   "cell_type": "code",
   "execution_count": 8,
   "id": "based-distribution",
   "metadata": {
    "ExecuteTime": {
     "end_time": "2021-06-14T14:41:18.023024Z",
     "start_time": "2021-06-14T14:41:18.007031Z"
    }
   },
   "outputs": [],
   "source": [
    "model.compile(optimizer='adam',\n",
    "              loss=tf.keras.losses.SparseCategoricalCrossentropy(from_logits=False),\n",
    "              metrics=['sparse_categorical_accuracy'])"
   ]
  },
  {
   "cell_type": "code",
   "execution_count": 9,
   "id": "relative-genetics",
   "metadata": {
    "ExecuteTime": {
     "end_time": "2021-06-14T15:05:00.253050Z",
     "start_time": "2021-06-14T14:41:20.957319Z"
    }
   },
   "outputs": [
    {
     "name": "stdout",
     "output_type": "stream",
     "text": [
      "Train on 37884 samples, validate on 37884 samples\n",
      "Epoch 1/150\n",
      "37884/37884 [==============================] - 12s 311us/sample - loss: 1.1780 - sparse_categorical_accuracy: 0.4109 - val_loss: 1.0911 - val_sparse_categorical_accuracy: 0.4535\n",
      "Epoch 2/150\n",
      "37884/37884 [==============================] - 9s 248us/sample - loss: 1.1027 - sparse_categorical_accuracy: 0.4448 - val_loss: 1.0330 - val_sparse_categorical_accuracy: 0.4934\n",
      "Epoch 3/150\n",
      "37884/37884 [==============================] - 9s 245us/sample - loss: 1.0643 - sparse_categorical_accuracy: 0.4799 - val_loss: 1.0096 - val_sparse_categorical_accuracy: 0.5259\n",
      "Epoch 4/150\n",
      "37884/37884 [==============================] - 10s 251us/sample - loss: 1.0410 - sparse_categorical_accuracy: 0.4983 - val_loss: 0.9784 - val_sparse_categorical_accuracy: 0.5365\n",
      "Epoch 5/150\n",
      "37884/37884 [==============================] - 9s 250us/sample - loss: 1.0213 - sparse_categorical_accuracy: 0.5082 - val_loss: 0.9886 - val_sparse_categorical_accuracy: 0.5260\n",
      "Epoch 6/150\n",
      "37884/37884 [==============================] - 9s 247us/sample - loss: 1.0016 - sparse_categorical_accuracy: 0.5202 - val_loss: 0.9743 - val_sparse_categorical_accuracy: 0.5157\n",
      "Epoch 7/150\n",
      "37884/37884 [==============================] - 9s 248us/sample - loss: 0.9829 - sparse_categorical_accuracy: 0.5344 - val_loss: 0.9461 - val_sparse_categorical_accuracy: 0.5684\n",
      "Epoch 8/150\n",
      "37884/37884 [==============================] - 9s 249us/sample - loss: 0.9700 - sparse_categorical_accuracy: 0.5414 - val_loss: 0.9250 - val_sparse_categorical_accuracy: 0.5752\n",
      "Epoch 9/150\n",
      "37884/37884 [==============================] - 9s 246us/sample - loss: 0.9539 - sparse_categorical_accuracy: 0.5550 - val_loss: 0.8943 - val_sparse_categorical_accuracy: 0.5968\n",
      "Epoch 10/150\n",
      "37884/37884 [==============================] - 9s 249us/sample - loss: 0.9452 - sparse_categorical_accuracy: 0.5599 - val_loss: 0.9025 - val_sparse_categorical_accuracy: 0.5989\n",
      "Epoch 11/150\n",
      "37884/37884 [==============================] - 9s 248us/sample - loss: 0.9341 - sparse_categorical_accuracy: 0.5667 - val_loss: 0.9047 - val_sparse_categorical_accuracy: 0.5889\n",
      "Epoch 12/150\n",
      "37884/37884 [==============================] - 9s 245us/sample - loss: 0.9212 - sparse_categorical_accuracy: 0.5764 - val_loss: 0.8583 - val_sparse_categorical_accuracy: 0.6271\n",
      "Epoch 13/150\n",
      "37884/37884 [==============================] - 9s 248us/sample - loss: 0.9135 - sparse_categorical_accuracy: 0.5822 - val_loss: 0.8695 - val_sparse_categorical_accuracy: 0.6288\n",
      "Epoch 14/150\n",
      "37884/37884 [==============================] - 9s 250us/sample - loss: 0.8995 - sparse_categorical_accuracy: 0.5923 - val_loss: 0.8630 - val_sparse_categorical_accuracy: 0.6276\n",
      "Epoch 15/150\n",
      "37884/37884 [==============================] - 9s 247us/sample - loss: 0.8891 - sparse_categorical_accuracy: 0.5958 - val_loss: 0.8403 - val_sparse_categorical_accuracy: 0.6361\n",
      "Epoch 16/150\n",
      "37884/37884 [==============================] - 9s 249us/sample - loss: 0.8815 - sparse_categorical_accuracy: 0.6038 - val_loss: 0.8194 - val_sparse_categorical_accuracy: 0.6538\n",
      "Epoch 17/150\n",
      "37884/37884 [==============================] - 10s 251us/sample - loss: 0.8743 - sparse_categorical_accuracy: 0.6058 - val_loss: 0.8121 - val_sparse_categorical_accuracy: 0.6514\n",
      "Epoch 18/150\n",
      "37884/37884 [==============================] - 9s 249us/sample - loss: 0.8608 - sparse_categorical_accuracy: 0.6143 - val_loss: 0.8037 - val_sparse_categorical_accuracy: 0.6659\n",
      "Epoch 19/150\n",
      "37884/37884 [==============================] - 9s 250us/sample - loss: 0.8497 - sparse_categorical_accuracy: 0.6147 - val_loss: 0.7786 - val_sparse_categorical_accuracy: 0.6706\n",
      "Epoch 20/150\n",
      "37884/37884 [==============================] - 10s 251us/sample - loss: 0.8392 - sparse_categorical_accuracy: 0.6224 - val_loss: 0.7838 - val_sparse_categorical_accuracy: 0.6697\n",
      "Epoch 21/150\n",
      "37884/37884 [==============================] - 9s 249us/sample - loss: 0.8286 - sparse_categorical_accuracy: 0.6259 - val_loss: 0.7558 - val_sparse_categorical_accuracy: 0.6811\n",
      "Epoch 22/150\n",
      "37884/37884 [==============================] - 10s 253us/sample - loss: 0.8200 - sparse_categorical_accuracy: 0.6316 - val_loss: 0.7327 - val_sparse_categorical_accuracy: 0.6945\n",
      "Epoch 23/150\n",
      "37884/37884 [==============================] - 10s 252us/sample - loss: 0.8077 - sparse_categorical_accuracy: 0.6412 - val_loss: 0.7174 - val_sparse_categorical_accuracy: 0.7044\n",
      "Epoch 24/150\n",
      "37884/37884 [==============================] - 9s 250us/sample - loss: 0.7958 - sparse_categorical_accuracy: 0.6431 - val_loss: 0.7003 - val_sparse_categorical_accuracy: 0.7099\n",
      "Epoch 25/150\n",
      "37884/37884 [==============================] - 10s 253us/sample - loss: 0.7857 - sparse_categorical_accuracy: 0.6505 - val_loss: 0.6939 - val_sparse_categorical_accuracy: 0.7209\n",
      "Epoch 26/150\n",
      "37884/37884 [==============================] - 9s 249us/sample - loss: 0.7705 - sparse_categorical_accuracy: 0.6562 - val_loss: 0.6805 - val_sparse_categorical_accuracy: 0.7203\n",
      "Epoch 27/150\n",
      "37884/37884 [==============================] - 9s 247us/sample - loss: 0.7597 - sparse_categorical_accuracy: 0.6632 - val_loss: 0.6686 - val_sparse_categorical_accuracy: 0.7251\n",
      "Epoch 28/150\n",
      "37884/37884 [==============================] - 10s 252us/sample - loss: 0.7476 - sparse_categorical_accuracy: 0.6680 - val_loss: 0.6529 - val_sparse_categorical_accuracy: 0.7388\n",
      "Epoch 29/150\n",
      "37884/37884 [==============================] - 9s 248us/sample - loss: 0.7376 - sparse_categorical_accuracy: 0.6742 - val_loss: 0.6316 - val_sparse_categorical_accuracy: 0.7493\n",
      "Epoch 30/150\n",
      "37884/37884 [==============================] - 9s 250us/sample - loss: 0.7253 - sparse_categorical_accuracy: 0.6800 - val_loss: 0.6194 - val_sparse_categorical_accuracy: 0.7588\n",
      "Epoch 31/150\n",
      "37884/37884 [==============================] - 9s 249us/sample - loss: 0.7152 - sparse_categorical_accuracy: 0.6838 - val_loss: 0.5939 - val_sparse_categorical_accuracy: 0.7699\n",
      "Epoch 32/150\n",
      "37884/37884 [==============================] - 9s 248us/sample - loss: 0.7006 - sparse_categorical_accuracy: 0.6936 - val_loss: 0.5832 - val_sparse_categorical_accuracy: 0.7814\n",
      "Epoch 33/150\n",
      "37884/37884 [==============================] - 10s 256us/sample - loss: 0.6896 - sparse_categorical_accuracy: 0.6989 - val_loss: 0.5577 - val_sparse_categorical_accuracy: 0.7868\n",
      "Epoch 34/150\n",
      "37884/37884 [==============================] - 9s 249us/sample - loss: 0.6813 - sparse_categorical_accuracy: 0.7002 - val_loss: 0.5419 - val_sparse_categorical_accuracy: 0.7948\n",
      "Epoch 35/150\n",
      "37884/37884 [==============================] - 9s 251us/sample - loss: 0.6683 - sparse_categorical_accuracy: 0.7107 - val_loss: 0.5493 - val_sparse_categorical_accuracy: 0.7890\n",
      "Epoch 36/150\n",
      "37884/37884 [==============================] - 9s 249us/sample - loss: 0.6566 - sparse_categorical_accuracy: 0.7164 - val_loss: 0.5167 - val_sparse_categorical_accuracy: 0.8090\n",
      "Epoch 37/150\n",
      "37884/37884 [==============================] - 9s 248us/sample - loss: 0.6468 - sparse_categorical_accuracy: 0.7213 - val_loss: 0.4913 - val_sparse_categorical_accuracy: 0.8203\n",
      "Epoch 38/150\n",
      "37884/37884 [==============================] - 9s 251us/sample - loss: 0.6373 - sparse_categorical_accuracy: 0.7249 - val_loss: 0.4946 - val_sparse_categorical_accuracy: 0.8246\n",
      "Epoch 39/150\n",
      "37884/37884 [==============================] - 10s 255us/sample - loss: 0.6236 - sparse_categorical_accuracy: 0.7331 - val_loss: 0.4579 - val_sparse_categorical_accuracy: 0.8383\n",
      "Epoch 40/150\n",
      "37884/37884 [==============================] - 9s 249us/sample - loss: 0.6156 - sparse_categorical_accuracy: 0.7340 - val_loss: 0.4456 - val_sparse_categorical_accuracy: 0.8404\n",
      "Epoch 41/150\n",
      "37884/37884 [==============================] - 9s 249us/sample - loss: 0.6043 - sparse_categorical_accuracy: 0.7419 - val_loss: 0.4485 - val_sparse_categorical_accuracy: 0.8489\n",
      "Epoch 42/150\n",
      "37884/37884 [==============================] - 10s 252us/sample - loss: 0.5926 - sparse_categorical_accuracy: 0.7471 - val_loss: 0.4171 - val_sparse_categorical_accuracy: 0.8558\n",
      "Epoch 43/150\n",
      "37884/37884 [==============================] - 10s 251us/sample - loss: 0.5804 - sparse_categorical_accuracy: 0.7541 - val_loss: 0.4119 - val_sparse_categorical_accuracy: 0.8541\n"
     ]
    },
    {
     "name": "stdout",
     "output_type": "stream",
     "text": [
      "Epoch 44/150\n",
      "37884/37884 [==============================] - 10s 258us/sample - loss: 0.5760 - sparse_categorical_accuracy: 0.7556 - val_loss: 0.4038 - val_sparse_categorical_accuracy: 0.8678\n",
      "Epoch 45/150\n",
      "37884/37884 [==============================] - 10s 253us/sample - loss: 0.5648 - sparse_categorical_accuracy: 0.7643 - val_loss: 0.3953 - val_sparse_categorical_accuracy: 0.8709\n",
      "Epoch 46/150\n",
      "37884/37884 [==============================] - 10s 253us/sample - loss: 0.5532 - sparse_categorical_accuracy: 0.7657 - val_loss: 0.3785 - val_sparse_categorical_accuracy: 0.8765\n",
      "Epoch 47/150\n",
      "37884/37884 [==============================] - 9s 248us/sample - loss: 0.5539 - sparse_categorical_accuracy: 0.7669 - val_loss: 0.3607 - val_sparse_categorical_accuracy: 0.8864\n",
      "Epoch 48/150\n",
      "37884/37884 [==============================] - 10s 253us/sample - loss: 0.5452 - sparse_categorical_accuracy: 0.7716 - val_loss: 0.3613 - val_sparse_categorical_accuracy: 0.8870\n",
      "Epoch 49/150\n",
      "37884/37884 [==============================] - 10s 277us/sample - loss: 0.5355 - sparse_categorical_accuracy: 0.7759 - val_loss: 0.3526 - val_sparse_categorical_accuracy: 0.8831\n",
      "Epoch 50/150\n",
      "37884/37884 [==============================] - 10s 258us/sample - loss: 0.5290 - sparse_categorical_accuracy: 0.7805 - val_loss: 0.3309 - val_sparse_categorical_accuracy: 0.8925\n",
      "Epoch 51/150\n",
      "37884/37884 [==============================] - 9s 249us/sample - loss: 0.5256 - sparse_categorical_accuracy: 0.7813 - val_loss: 0.3244 - val_sparse_categorical_accuracy: 0.8985\n",
      "Epoch 52/150\n",
      "37884/37884 [==============================] - 10s 258us/sample - loss: 0.5176 - sparse_categorical_accuracy: 0.7872 - val_loss: 0.3075 - val_sparse_categorical_accuracy: 0.9009\n",
      "Epoch 53/150\n",
      "37884/37884 [==============================] - 9s 248us/sample - loss: 0.5137 - sparse_categorical_accuracy: 0.7886 - val_loss: 0.3171 - val_sparse_categorical_accuracy: 0.9062\n",
      "Epoch 54/150\n",
      "37884/37884 [==============================] - 9s 248us/sample - loss: 0.5044 - sparse_categorical_accuracy: 0.7917 - val_loss: 0.3112 - val_sparse_categorical_accuracy: 0.9067\n",
      "Epoch 55/150\n",
      "37884/37884 [==============================] - 9s 250us/sample - loss: 0.4951 - sparse_categorical_accuracy: 0.7945 - val_loss: 0.2882 - val_sparse_categorical_accuracy: 0.9151\n",
      "Epoch 56/150\n",
      "37884/37884 [==============================] - 10s 255us/sample - loss: 0.4945 - sparse_categorical_accuracy: 0.7944 - val_loss: 0.2987 - val_sparse_categorical_accuracy: 0.9109\n",
      "Epoch 57/150\n",
      "37884/37884 [==============================] - 10s 254us/sample - loss: 0.4848 - sparse_categorical_accuracy: 0.7984 - val_loss: 0.2830 - val_sparse_categorical_accuracy: 0.9159\n",
      "Epoch 58/150\n",
      "37884/37884 [==============================] - 9s 248us/sample - loss: 0.4764 - sparse_categorical_accuracy: 0.8075 - val_loss: 0.2815 - val_sparse_categorical_accuracy: 0.9145\n",
      "Epoch 59/150\n",
      "37884/37884 [==============================] - 9s 249us/sample - loss: 0.4755 - sparse_categorical_accuracy: 0.8046 - val_loss: 0.2697 - val_sparse_categorical_accuracy: 0.9241\n",
      "Epoch 60/150\n",
      "37884/37884 [==============================] - 9s 246us/sample - loss: 0.4713 - sparse_categorical_accuracy: 0.8066 - val_loss: 0.2626 - val_sparse_categorical_accuracy: 0.9236\n",
      "Epoch 61/150\n",
      "37884/37884 [==============================] - 9s 249us/sample - loss: 0.4632 - sparse_categorical_accuracy: 0.8094 - val_loss: 0.2676 - val_sparse_categorical_accuracy: 0.9203\n",
      "Epoch 62/150\n",
      "37884/37884 [==============================] - 9s 249us/sample - loss: 0.4601 - sparse_categorical_accuracy: 0.8114 - val_loss: 0.2590 - val_sparse_categorical_accuracy: 0.9281\n",
      "Epoch 63/150\n",
      "37884/37884 [==============================] - 9s 250us/sample - loss: 0.4541 - sparse_categorical_accuracy: 0.8167 - val_loss: 0.2513 - val_sparse_categorical_accuracy: 0.9286\n",
      "Epoch 64/150\n",
      "37884/37884 [==============================] - 9s 248us/sample - loss: 0.4441 - sparse_categorical_accuracy: 0.8179 - val_loss: 0.2461 - val_sparse_categorical_accuracy: 0.9323\n",
      "Epoch 65/150\n",
      "37884/37884 [==============================] - 9s 250us/sample - loss: 0.4484 - sparse_categorical_accuracy: 0.8156 - val_loss: 0.2490 - val_sparse_categorical_accuracy: 0.9355\n",
      "Epoch 66/150\n",
      "37884/37884 [==============================] - 9s 247us/sample - loss: 0.4395 - sparse_categorical_accuracy: 0.8215 - val_loss: 0.2299 - val_sparse_categorical_accuracy: 0.9338\n",
      "Epoch 67/150\n",
      "37884/37884 [==============================] - 9s 248us/sample - loss: 0.4381 - sparse_categorical_accuracy: 0.8226 - val_loss: 0.2291 - val_sparse_categorical_accuracy: 0.9376\n",
      "Epoch 68/150\n",
      "37884/37884 [==============================] - 9s 249us/sample - loss: 0.4324 - sparse_categorical_accuracy: 0.8229 - val_loss: 0.2228 - val_sparse_categorical_accuracy: 0.9412\n",
      "Epoch 69/150\n",
      "37884/37884 [==============================] - 9s 245us/sample - loss: 0.4300 - sparse_categorical_accuracy: 0.8269 - val_loss: 0.2250 - val_sparse_categorical_accuracy: 0.9442\n",
      "Epoch 70/150\n",
      "37884/37884 [==============================] - 9s 247us/sample - loss: 0.4328 - sparse_categorical_accuracy: 0.8248 - val_loss: 0.2268 - val_sparse_categorical_accuracy: 0.9371\n",
      "Epoch 71/150\n",
      "37884/37884 [==============================] - 9s 250us/sample - loss: 0.4206 - sparse_categorical_accuracy: 0.8316 - val_loss: 0.2154 - val_sparse_categorical_accuracy: 0.9459\n",
      "Epoch 72/150\n",
      "37884/37884 [==============================] - 9s 250us/sample - loss: 0.4159 - sparse_categorical_accuracy: 0.8316 - val_loss: 0.2060 - val_sparse_categorical_accuracy: 0.9483\n",
      "Epoch 73/150\n",
      "37884/37884 [==============================] - 10s 258us/sample - loss: 0.4115 - sparse_categorical_accuracy: 0.8342 - val_loss: 0.2060 - val_sparse_categorical_accuracy: 0.9482\n",
      "Epoch 74/150\n",
      "37884/37884 [==============================] - 9s 249us/sample - loss: 0.4110 - sparse_categorical_accuracy: 0.8343 - val_loss: 0.2113 - val_sparse_categorical_accuracy: 0.9471\n",
      "Epoch 75/150\n",
      "37884/37884 [==============================] - 9s 249us/sample - loss: 0.4103 - sparse_categorical_accuracy: 0.8344 - val_loss: 0.2077 - val_sparse_categorical_accuracy: 0.9483\n",
      "Epoch 76/150\n",
      "37884/37884 [==============================] - 9s 246us/sample - loss: 0.4092 - sparse_categorical_accuracy: 0.8339 - val_loss: 0.1929 - val_sparse_categorical_accuracy: 0.9515\n",
      "Epoch 77/150\n",
      "37884/37884 [==============================] - 9s 247us/sample - loss: 0.4031 - sparse_categorical_accuracy: 0.8381 - val_loss: 0.1981 - val_sparse_categorical_accuracy: 0.9537\n",
      "Epoch 78/150\n",
      "37884/37884 [==============================] - 9s 245us/sample - loss: 0.3959 - sparse_categorical_accuracy: 0.8406 - val_loss: 0.1908 - val_sparse_categorical_accuracy: 0.9549\n",
      "Epoch 79/150\n",
      "37884/37884 [==============================] - 9s 246us/sample - loss: 0.3947 - sparse_categorical_accuracy: 0.8424 - val_loss: 0.1911 - val_sparse_categorical_accuracy: 0.9544\n",
      "Epoch 80/150\n",
      "37884/37884 [==============================] - 9s 244us/sample - loss: 0.3892 - sparse_categorical_accuracy: 0.8446 - val_loss: 0.1786 - val_sparse_categorical_accuracy: 0.9551\n",
      "Epoch 81/150\n",
      "37884/37884 [==============================] - 9s 242us/sample - loss: 0.3856 - sparse_categorical_accuracy: 0.8454 - val_loss: 0.1724 - val_sparse_categorical_accuracy: 0.9570\n",
      "Epoch 82/150\n",
      "37884/37884 [==============================] - 10s 256us/sample - loss: 0.3894 - sparse_categorical_accuracy: 0.8434 - val_loss: 0.1819 - val_sparse_categorical_accuracy: 0.9578\n",
      "Epoch 83/150\n",
      "37884/37884 [==============================] - 9s 246us/sample - loss: 0.3847 - sparse_categorical_accuracy: 0.8463 - val_loss: 0.1704 - val_sparse_categorical_accuracy: 0.9588\n",
      "Epoch 84/150\n",
      "37884/37884 [==============================] - 10s 259us/sample - loss: 0.3840 - sparse_categorical_accuracy: 0.8451 - val_loss: 0.1743 - val_sparse_categorical_accuracy: 0.9592\n",
      "Epoch 85/150\n",
      "37884/37884 [==============================] - 9s 246us/sample - loss: 0.3751 - sparse_categorical_accuracy: 0.8494 - val_loss: 0.1804 - val_sparse_categorical_accuracy: 0.9606\n",
      "Epoch 86/150\n",
      "37884/37884 [==============================] - 9s 247us/sample - loss: 0.3759 - sparse_categorical_accuracy: 0.8489 - val_loss: 0.1732 - val_sparse_categorical_accuracy: 0.9598\n",
      "Epoch 87/150\n"
     ]
    },
    {
     "name": "stdout",
     "output_type": "stream",
     "text": [
      "37884/37884 [==============================] - 9s 247us/sample - loss: 0.3721 - sparse_categorical_accuracy: 0.8525 - val_loss: 0.1692 - val_sparse_categorical_accuracy: 0.9620\n",
      "Epoch 88/150\n",
      "37884/37884 [==============================] - 9s 250us/sample - loss: 0.3714 - sparse_categorical_accuracy: 0.8513 - val_loss: 0.1611 - val_sparse_categorical_accuracy: 0.9653\n",
      "Epoch 89/150\n",
      "37884/37884 [==============================] - 9s 248us/sample - loss: 0.3679 - sparse_categorical_accuracy: 0.8551 - val_loss: 0.1590 - val_sparse_categorical_accuracy: 0.9644\n",
      "Epoch 90/150\n",
      "37884/37884 [==============================] - 9s 248us/sample - loss: 0.3663 - sparse_categorical_accuracy: 0.8541 - val_loss: 0.1561 - val_sparse_categorical_accuracy: 0.9650\n",
      "Epoch 91/150\n",
      "37884/37884 [==============================] - 9s 249us/sample - loss: 0.3662 - sparse_categorical_accuracy: 0.8559 - val_loss: 0.1635 - val_sparse_categorical_accuracy: 0.9658\n",
      "Epoch 92/150\n",
      "37884/37884 [==============================] - 9s 249us/sample - loss: 0.3649 - sparse_categorical_accuracy: 0.8573 - val_loss: 0.1562 - val_sparse_categorical_accuracy: 0.9666\n",
      "Epoch 93/150\n",
      "37884/37884 [==============================] - 9s 250us/sample - loss: 0.3612 - sparse_categorical_accuracy: 0.8568 - val_loss: 0.1544 - val_sparse_categorical_accuracy: 0.9675\n",
      "Epoch 94/150\n",
      "37884/37884 [==============================] - 10s 252us/sample - loss: 0.3594 - sparse_categorical_accuracy: 0.8586 - val_loss: 0.1537 - val_sparse_categorical_accuracy: 0.9669\n",
      "Epoch 95/150\n",
      "37884/37884 [==============================] - 10s 260us/sample - loss: 0.3553 - sparse_categorical_accuracy: 0.8601 - val_loss: 0.1490 - val_sparse_categorical_accuracy: 0.9687\n",
      "Epoch 96/150\n",
      "37884/37884 [==============================] - 10s 265us/sample - loss: 0.3572 - sparse_categorical_accuracy: 0.8607 - val_loss: 0.1507 - val_sparse_categorical_accuracy: 0.9671\n",
      "Epoch 97/150\n",
      "37884/37884 [==============================] - 10s 257us/sample - loss: 0.3536 - sparse_categorical_accuracy: 0.8631 - val_loss: 0.1423 - val_sparse_categorical_accuracy: 0.9685\n",
      "Epoch 98/150\n",
      "37884/37884 [==============================] - 10s 253us/sample - loss: 0.3459 - sparse_categorical_accuracy: 0.8659 - val_loss: 0.1334 - val_sparse_categorical_accuracy: 0.9678\n",
      "Epoch 99/150\n",
      "37884/37884 [==============================] - 10s 257us/sample - loss: 0.3488 - sparse_categorical_accuracy: 0.8637 - val_loss: 0.1430 - val_sparse_categorical_accuracy: 0.9707\n",
      "Epoch 100/150\n",
      "37884/37884 [==============================] - 9s 247us/sample - loss: 0.3501 - sparse_categorical_accuracy: 0.8609 - val_loss: 0.1464 - val_sparse_categorical_accuracy: 0.9697\n",
      "Epoch 101/150\n",
      "37884/37884 [==============================] - 9s 247us/sample - loss: 0.3486 - sparse_categorical_accuracy: 0.8624 - val_loss: 0.1436 - val_sparse_categorical_accuracy: 0.9719\n",
      "Epoch 102/150\n",
      "37884/37884 [==============================] - 9s 248us/sample - loss: 0.3473 - sparse_categorical_accuracy: 0.8621 - val_loss: 0.1423 - val_sparse_categorical_accuracy: 0.9721\n",
      "Epoch 103/150\n",
      "37884/37884 [==============================] - 9s 247us/sample - loss: 0.3436 - sparse_categorical_accuracy: 0.8652 - val_loss: 0.1387 - val_sparse_categorical_accuracy: 0.9712\n",
      "Epoch 104/150\n",
      "37884/37884 [==============================] - 9s 247us/sample - loss: 0.3375 - sparse_categorical_accuracy: 0.8652 - val_loss: 0.1312 - val_sparse_categorical_accuracy: 0.9735\n",
      "Epoch 105/150\n",
      "37884/37884 [==============================] - 9s 250us/sample - loss: 0.3393 - sparse_categorical_accuracy: 0.8654 - val_loss: 0.1344 - val_sparse_categorical_accuracy: 0.9719\n",
      "Epoch 106/150\n",
      "37884/37884 [==============================] - 9s 249us/sample - loss: 0.3386 - sparse_categorical_accuracy: 0.8659 - val_loss: 0.1367 - val_sparse_categorical_accuracy: 0.9728\n",
      "Epoch 107/150\n",
      "37884/37884 [==============================] - 9s 249us/sample - loss: 0.3337 - sparse_categorical_accuracy: 0.8676 - val_loss: 0.1277 - val_sparse_categorical_accuracy: 0.9741\n",
      "Epoch 108/150\n",
      "37884/37884 [==============================] - 9s 245us/sample - loss: 0.3328 - sparse_categorical_accuracy: 0.8692 - val_loss: 0.1362 - val_sparse_categorical_accuracy: 0.9756\n",
      "Epoch 109/150\n",
      "37884/37884 [==============================] - 10s 253us/sample - loss: 0.3288 - sparse_categorical_accuracy: 0.8705 - val_loss: 0.1269 - val_sparse_categorical_accuracy: 0.9751\n",
      "Epoch 110/150\n",
      "37884/37884 [==============================] - 10s 254us/sample - loss: 0.3347 - sparse_categorical_accuracy: 0.8686 - val_loss: 0.1277 - val_sparse_categorical_accuracy: 0.9738\n",
      "Epoch 111/150\n",
      "37884/37884 [==============================] - 10s 252us/sample - loss: 0.3315 - sparse_categorical_accuracy: 0.8700 - val_loss: 0.1207 - val_sparse_categorical_accuracy: 0.9761\n",
      "Epoch 112/150\n",
      "37884/37884 [==============================] - 10s 259us/sample - loss: 0.3334 - sparse_categorical_accuracy: 0.8687 - val_loss: 0.1213 - val_sparse_categorical_accuracy: 0.9759\n",
      "Epoch 113/150\n",
      "37884/37884 [==============================] - 9s 247us/sample - loss: 0.3278 - sparse_categorical_accuracy: 0.8715 - val_loss: 0.1229 - val_sparse_categorical_accuracy: 0.9765\n",
      "Epoch 114/150\n",
      "37884/37884 [==============================] - 9s 248us/sample - loss: 0.3258 - sparse_categorical_accuracy: 0.8726 - val_loss: 0.1321 - val_sparse_categorical_accuracy: 0.9764\n",
      "Epoch 115/150\n",
      "37884/37884 [==============================] - 9s 245us/sample - loss: 0.3262 - sparse_categorical_accuracy: 0.8728 - val_loss: 0.1228 - val_sparse_categorical_accuracy: 0.9753\n",
      "Epoch 116/150\n",
      "37884/37884 [==============================] - 9s 244us/sample - loss: 0.3211 - sparse_categorical_accuracy: 0.8744 - val_loss: 0.1213 - val_sparse_categorical_accuracy: 0.9789\n",
      "Epoch 117/150\n",
      "37884/37884 [==============================] - 9s 245us/sample - loss: 0.3208 - sparse_categorical_accuracy: 0.8728 - val_loss: 0.1194 - val_sparse_categorical_accuracy: 0.9784\n",
      "Epoch 118/150\n",
      "37884/37884 [==============================] - 9s 244us/sample - loss: 0.3188 - sparse_categorical_accuracy: 0.8756 - val_loss: 0.1189 - val_sparse_categorical_accuracy: 0.9783\n",
      "Epoch 119/150\n",
      "37884/37884 [==============================] - 9s 243us/sample - loss: 0.3200 - sparse_categorical_accuracy: 0.8749 - val_loss: 0.1213 - val_sparse_categorical_accuracy: 0.9779\n",
      "Epoch 120/150\n",
      "37884/37884 [==============================] - 9s 243us/sample - loss: 0.3135 - sparse_categorical_accuracy: 0.8768 - val_loss: 0.1130 - val_sparse_categorical_accuracy: 0.9792\n",
      "Epoch 121/150\n",
      "37884/37884 [==============================] - 9s 247us/sample - loss: 0.3226 - sparse_categorical_accuracy: 0.8750 - val_loss: 0.1103 - val_sparse_categorical_accuracy: 0.9794\n",
      "Epoch 122/150\n",
      "37884/37884 [==============================] - 10s 253us/sample - loss: 0.3116 - sparse_categorical_accuracy: 0.8787 - val_loss: 0.1146 - val_sparse_categorical_accuracy: 0.9803\n",
      "Epoch 123/150\n",
      "37884/37884 [==============================] - 9s 250us/sample - loss: 0.3151 - sparse_categorical_accuracy: 0.8765 - val_loss: 0.1125 - val_sparse_categorical_accuracy: 0.9805\n",
      "Epoch 124/150\n",
      "37884/37884 [==============================] - 10s 257us/sample - loss: 0.3144 - sparse_categorical_accuracy: 0.8777 - val_loss: 0.1035 - val_sparse_categorical_accuracy: 0.9806\n",
      "Epoch 125/150\n",
      "37884/37884 [==============================] - 10s 253us/sample - loss: 0.3103 - sparse_categorical_accuracy: 0.8806 - val_loss: 0.1086 - val_sparse_categorical_accuracy: 0.9806\n",
      "Epoch 126/150\n",
      "37884/37884 [==============================] - 10s 253us/sample - loss: 0.3045 - sparse_categorical_accuracy: 0.8792 - val_loss: 0.1078 - val_sparse_categorical_accuracy: 0.9794\n",
      "Epoch 127/150\n",
      "37884/37884 [==============================] - 9s 250us/sample - loss: 0.3093 - sparse_categorical_accuracy: 0.8792 - val_loss: 0.1018 - val_sparse_categorical_accuracy: 0.9822\n",
      "Epoch 128/150\n",
      "37884/37884 [==============================] - 9s 243us/sample - loss: 0.3080 - sparse_categorical_accuracy: 0.8810 - val_loss: 0.1055 - val_sparse_categorical_accuracy: 0.9814\n",
      "Epoch 129/150\n",
      "37884/37884 [==============================] - 9s 244us/sample - loss: 0.3059 - sparse_categorical_accuracy: 0.8811 - val_loss: 0.1021 - val_sparse_categorical_accuracy: 0.9827\n"
     ]
    },
    {
     "name": "stdout",
     "output_type": "stream",
     "text": [
      "Epoch 130/150\n",
      "37884/37884 [==============================] - 9s 247us/sample - loss: 0.3117 - sparse_categorical_accuracy: 0.8783 - val_loss: 0.1086 - val_sparse_categorical_accuracy: 0.9831\n",
      "Epoch 131/150\n",
      "37884/37884 [==============================] - 9s 246us/sample - loss: 0.3008 - sparse_categorical_accuracy: 0.8834 - val_loss: 0.1083 - val_sparse_categorical_accuracy: 0.9805\n",
      "Epoch 132/150\n",
      "37884/37884 [==============================] - 9s 246us/sample - loss: 0.3027 - sparse_categorical_accuracy: 0.8833 - val_loss: 0.0942 - val_sparse_categorical_accuracy: 0.9838\n",
      "Epoch 133/150\n",
      "37884/37884 [==============================] - 9s 246us/sample - loss: 0.3040 - sparse_categorical_accuracy: 0.8822 - val_loss: 0.0961 - val_sparse_categorical_accuracy: 0.9833\n",
      "Epoch 134/150\n",
      "37884/37884 [==============================] - 9s 243us/sample - loss: 0.3004 - sparse_categorical_accuracy: 0.8820 - val_loss: 0.1024 - val_sparse_categorical_accuracy: 0.9837\n",
      "Epoch 135/150\n",
      "37884/37884 [==============================] - 9s 245us/sample - loss: 0.3021 - sparse_categorical_accuracy: 0.8836 - val_loss: 0.1006 - val_sparse_categorical_accuracy: 0.9831\n",
      "Epoch 136/150\n",
      "37884/37884 [==============================] - 9s 246us/sample - loss: 0.3054 - sparse_categorical_accuracy: 0.8822 - val_loss: 0.1002 - val_sparse_categorical_accuracy: 0.9823\n",
      "Epoch 137/150\n",
      "37884/37884 [==============================] - 9s 247us/sample - loss: 0.2977 - sparse_categorical_accuracy: 0.8833 - val_loss: 0.0994 - val_sparse_categorical_accuracy: 0.9829\n",
      "Epoch 138/150\n",
      "37884/37884 [==============================] - 9s 247us/sample - loss: 0.2961 - sparse_categorical_accuracy: 0.8861 - val_loss: 0.1024 - val_sparse_categorical_accuracy: 0.9823\n",
      "Epoch 139/150\n",
      "37884/37884 [==============================] - 9s 246us/sample - loss: 0.2949 - sparse_categorical_accuracy: 0.8867 - val_loss: 0.0986 - val_sparse_categorical_accuracy: 0.9842\n",
      "Epoch 140/150\n",
      "37884/37884 [==============================] - 9s 246us/sample - loss: 0.2970 - sparse_categorical_accuracy: 0.8857 - val_loss: 0.0948 - val_sparse_categorical_accuracy: 0.9835\n",
      "Epoch 141/150\n",
      "37884/37884 [==============================] - 9s 247us/sample - loss: 0.2911 - sparse_categorical_accuracy: 0.8868 - val_loss: 0.0905 - val_sparse_categorical_accuracy: 0.9846\n",
      "Epoch 142/150\n",
      "37884/37884 [==============================] - 9s 245us/sample - loss: 0.2975 - sparse_categorical_accuracy: 0.8858 - val_loss: 0.0882 - val_sparse_categorical_accuracy: 0.9851\n",
      "Epoch 143/150\n",
      "37884/37884 [==============================] - 9s 246us/sample - loss: 0.2935 - sparse_categorical_accuracy: 0.8874 - val_loss: 0.0940 - val_sparse_categorical_accuracy: 0.9849\n",
      "Epoch 144/150\n",
      "37884/37884 [==============================] - 9s 246us/sample - loss: 0.2901 - sparse_categorical_accuracy: 0.8876 - val_loss: 0.1018 - val_sparse_categorical_accuracy: 0.9851\n",
      "Epoch 145/150\n",
      "37884/37884 [==============================] - 9s 244us/sample - loss: 0.2906 - sparse_categorical_accuracy: 0.8866 - val_loss: 0.0898 - val_sparse_categorical_accuracy: 0.9856\n",
      "Epoch 146/150\n",
      "37884/37884 [==============================] - 9s 245us/sample - loss: 0.2889 - sparse_categorical_accuracy: 0.8872 - val_loss: 0.0923 - val_sparse_categorical_accuracy: 0.9839\n",
      "Epoch 147/150\n",
      "37884/37884 [==============================] - 9s 242us/sample - loss: 0.2906 - sparse_categorical_accuracy: 0.8884 - val_loss: 0.0897 - val_sparse_categorical_accuracy: 0.9863\n",
      "Epoch 148/150\n",
      "37884/37884 [==============================] - 9s 244us/sample - loss: 0.2932 - sparse_categorical_accuracy: 0.8853 - val_loss: 0.0938 - val_sparse_categorical_accuracy: 0.9863\n",
      "Epoch 149/150\n",
      "37884/37884 [==============================] - 9s 244us/sample - loss: 0.2927 - sparse_categorical_accuracy: 0.8865 - val_loss: 0.0830 - val_sparse_categorical_accuracy: 0.9858\n",
      "Epoch 150/150\n",
      "37884/37884 [==============================] - 9s 243us/sample - loss: 0.2840 - sparse_categorical_accuracy: 0.8906 - val_loss: 0.0933 - val_sparse_categorical_accuracy: 0.9848\n"
     ]
    },
    {
     "data": {
      "text/plain": [
       "<tensorflow.python.keras.callbacks.History at 0x26e5dea3048>"
      ]
     },
     "execution_count": 9,
     "metadata": {},
     "output_type": "execute_result"
    }
   ],
   "source": [
    "model.fit(x_train, y_train, batch_size=32, epochs=150, validation_data=(x_test, y_test), validation_freq=1)"
   ]
  },
  {
   "cell_type": "code",
   "execution_count": 10,
   "id": "received-black",
   "metadata": {
    "ExecuteTime": {
     "end_time": "2021-06-14T15:06:29.121367Z",
     "start_time": "2021-06-14T15:06:29.102369Z"
    }
   },
   "outputs": [
    {
     "name": "stdout",
     "output_type": "stream",
     "text": [
      "Model: \"cnn\"\n",
      "_________________________________________________________________\n",
      "Layer (type)                 Output Shape              Param #   \n",
      "=================================================================\n",
      "conv1d (Conv1D)              multiple                  1024      \n",
      "_________________________________________________________________\n",
      "batch_normalization (BatchNo multiple                  512       \n",
      "_________________________________________________________________\n",
      "activation (Activation)      multiple                  0         \n",
      "_________________________________________________________________\n",
      "max_pooling1d (MaxPooling1D) multiple                  0         \n",
      "_________________________________________________________________\n",
      "dropout (Dropout)            multiple                  0         \n",
      "_________________________________________________________________\n",
      "conv1d_1 (Conv1D)            multiple                  24640     \n",
      "_________________________________________________________________\n",
      "batch_normalization_1 (Batch multiple                  256       \n",
      "_________________________________________________________________\n",
      "activation_1 (Activation)    multiple                  0         \n",
      "_________________________________________________________________\n",
      "max_pooling1d_1 (MaxPooling1 multiple                  0         \n",
      "_________________________________________________________________\n",
      "dropout_1 (Dropout)          multiple                  0         \n",
      "_________________________________________________________________\n",
      "flatten (Flatten)            multiple                  0         \n",
      "_________________________________________________________________\n",
      "dense (Dense)                multiple                  1228928   \n",
      "_________________________________________________________________\n",
      "dropout_2 (Dropout)          multiple                  0         \n",
      "_________________________________________________________________\n",
      "dense_1 (Dense)              multiple                  8256      \n",
      "_________________________________________________________________\n",
      "dense_2 (Dense)              multiple                  260       \n",
      "=================================================================\n",
      "Total params: 1,263,876\n",
      "Trainable params: 1,263,492\n",
      "Non-trainable params: 384\n",
      "_________________________________________________________________\n"
     ]
    }
   ],
   "source": [
    "model.summary()"
   ]
  },
  {
   "cell_type": "markdown",
   "id": "outside-campaign",
   "metadata": {},
   "source": [
    "# 预测"
   ]
  },
  {
   "cell_type": "code",
   "execution_count": 11,
   "id": "welcome-helping",
   "metadata": {
    "ExecuteTime": {
     "end_time": "2021-06-14T15:06:33.804710Z",
     "start_time": "2021-06-14T15:06:31.814142Z"
    }
   },
   "outputs": [],
   "source": [
    "p=tf.argmax(model.predict(x_test),axis=1)"
   ]
  },
  {
   "cell_type": "code",
   "execution_count": 12,
   "id": "published-hacker",
   "metadata": {
    "ExecuteTime": {
     "end_time": "2021-06-14T15:06:33.820731Z",
     "start_time": "2021-06-14T15:06:33.806720Z"
    }
   },
   "outputs": [],
   "source": [
    "def label_back(label):\n",
    "    label_new=label.tolist()\n",
    "    \n",
    "    for i in range(len(label_new)):\n",
    "        if label_new[i]==0:\n",
    "            label_new[i]=5\n",
    "            \n",
    "    return label_new"
   ]
  },
  {
   "cell_type": "code",
   "execution_count": 13,
   "id": "severe-german",
   "metadata": {
    "ExecuteTime": {
     "end_time": "2021-06-14T15:06:33.836728Z",
     "start_time": "2021-06-14T15:06:33.822719Z"
    }
   },
   "outputs": [],
   "source": [
    "label_truth=label_back(y_test)\n",
    "label_predict=label_back(p.numpy())"
   ]
  },
  {
   "cell_type": "code",
   "execution_count": 14,
   "id": "stunning-township",
   "metadata": {
    "ExecuteTime": {
     "end_time": "2021-06-14T15:06:34.512254Z",
     "start_time": "2021-06-14T15:06:34.487245Z"
    }
   },
   "outputs": [
    {
     "data": {
      "text/html": [
       "<div>\n",
       "<style scoped>\n",
       "    .dataframe tbody tr th:only-of-type {\n",
       "        vertical-align: middle;\n",
       "    }\n",
       "\n",
       "    .dataframe tbody tr th {\n",
       "        vertical-align: top;\n",
       "    }\n",
       "\n",
       "    .dataframe thead th {\n",
       "        text-align: right;\n",
       "    }\n",
       "</style>\n",
       "<table border=\"1\" class=\"dataframe\">\n",
       "  <thead>\n",
       "    <tr style=\"text-align: right;\">\n",
       "      <th></th>\n",
       "      <th>Precision</th>\n",
       "      <th>Recall</th>\n",
       "      <th>F1</th>\n",
       "    </tr>\n",
       "  </thead>\n",
       "  <tbody>\n",
       "    <tr>\n",
       "      <th>军事新闻</th>\n",
       "      <td>0.98</td>\n",
       "      <td>0.99</td>\n",
       "      <td>0.99</td>\n",
       "    </tr>\n",
       "    <tr>\n",
       "      <th>体育新闻</th>\n",
       "      <td>1.00</td>\n",
       "      <td>0.99</td>\n",
       "      <td>0.99</td>\n",
       "    </tr>\n",
       "    <tr>\n",
       "      <th>晋江小说</th>\n",
       "      <td>0.98</td>\n",
       "      <td>0.99</td>\n",
       "      <td>0.98</td>\n",
       "    </tr>\n",
       "    <tr>\n",
       "      <th>电影短评</th>\n",
       "      <td>0.99</td>\n",
       "      <td>0.98</td>\n",
       "      <td>0.98</td>\n",
       "    </tr>\n",
       "    <tr>\n",
       "      <th>综合</th>\n",
       "      <td>0.98</td>\n",
       "      <td>0.98</td>\n",
       "      <td>0.98</td>\n",
       "    </tr>\n",
       "  </tbody>\n",
       "</table>\n",
       "</div>"
      ],
      "text/plain": [
       "      Precision  Recall    F1\n",
       "军事新闻       0.98    0.99  0.99\n",
       "体育新闻       1.00    0.99  0.99\n",
       "晋江小说       0.98    0.99  0.98\n",
       "电影短评       0.99    0.98  0.98\n",
       "综合         0.98    0.98  0.98"
      ]
     },
     "metadata": {},
     "output_type": "display_data"
    },
    {
     "name": "stdout",
     "output_type": "stream",
     "text": [
      "\n",
      "结果保存在charcnn.txt\n"
     ]
    }
   ],
   "source": [
    "from utils.score import score\n",
    "\n",
    "score(label_truth,label_predict,output_filename='charcnn.txt')"
   ]
  }
 ],
 "metadata": {
  "kernelspec": {
   "display_name": "Python 3",
   "language": "python",
   "name": "python3"
  },
  "language_info": {
   "codemirror_mode": {
    "name": "ipython",
    "version": 3
   },
   "file_extension": ".py",
   "mimetype": "text/x-python",
   "name": "python",
   "nbconvert_exporter": "python",
   "pygments_lexer": "ipython3",
   "version": "3.7.0"
  }
 },
 "nbformat": 4,
 "nbformat_minor": 5
}
