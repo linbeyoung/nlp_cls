{
 "cells": [
  {
   "cell_type": "code",
   "execution_count": 1,
   "id": "unlike-humanitarian",
   "metadata": {
    "ExecuteTime": {
     "end_time": "2021-06-15T11:30:54.408462Z",
     "start_time": "2021-06-15T11:30:48.180922Z"
    }
   },
   "outputs": [],
   "source": [
    "import tensorflow as tf\n",
    "\n",
    "from tensorflow.keras.layers import Dense, Flatten"
   ]
  },
  {
   "cell_type": "code",
   "execution_count": 2,
   "id": "rubber-arrangement",
   "metadata": {
    "ExecuteTime": {
     "end_time": "2021-06-15T11:31:13.186894Z",
     "start_time": "2021-06-15T11:31:10.599565Z"
    }
   },
   "outputs": [
    {
     "name": "stderr",
     "output_type": "stream",
     "text": [
      "C:\\Users\\liufeng\\.conda\\envs\\pytorch\\lib\\site-packages\\gensim\\similarities\\__init__.py:15: UserWarning: The gensim.similarities.levenshtein submodule is disabled, because the optional Levenshtein package <https://pypi.org/project/python-Levenshtein/> is unavailable. Install Levenhstein (e.g. `pip install python-Levenshtein`) to suppress this warning.\n",
      "  warnings.warn(msg)\n"
     ]
    }
   ],
   "source": [
    "import jieba\n",
    "import gensim\n",
    "\n",
    "import matplotlib.pyplot as plt\n",
    "import numpy as np\n",
    "\n",
    "from utils.data_loader import load_data\n",
    "from tqdm import tqdm"
   ]
  },
  {
   "cell_type": "code",
   "execution_count": 3,
   "id": "original-facing",
   "metadata": {
    "ExecuteTime": {
     "end_time": "2021-06-15T11:31:35.266253Z",
     "start_time": "2021-06-15T11:31:35.247246Z"
    }
   },
   "outputs": [],
   "source": [
    "def load_stopwords(path_to_file):\n",
    "    stop_words=set()\n",
    "    with open(path_to_file,encoding=\"utf-8\") as f:\n",
    "        content=f.readlines()\n",
    "    for word in content:\n",
    "        stop_words.add(word.strip('\\n'))\n",
    "        \n",
    "    return stop_words\n",
    "\n",
    "\n",
    "# In[61]:\n",
    "\n",
    "\n",
    "def cut_sentence(sentence):\n",
    "    \"\"\"\n",
    "    分词，去停用词，返回一个列表\n",
    "    \"\"\"\n",
    "    result=[]\n",
    "    for word in jieba.lcut(sentence):\n",
    "        if word not in stop_words:\n",
    "            result.append(word)\n",
    "            \n",
    "    return result\n",
    "\n",
    "\n",
    "# In[62]:\n",
    "\n",
    "\n",
    "def load_word2vec(path_to_file):\n",
    "    print(\"加载词向量...\")\n",
    "    return gensim.models.KeyedVectors.load_word2vec_format(path_to_file,binary=False)\n",
    "\n",
    "\n",
    "# In[64]:\n",
    "\n",
    "\n",
    "def random_vector(seed):\n",
    "    np.random.seed(seed)\n",
    "    vec=-1 + 2*np.random.random((300))\n",
    "    vec=vec.astype('float64')\n",
    "    \n",
    "    return vec\n",
    "\n",
    "\n",
    "# In[65]:\n",
    "\n",
    "\n",
    "def get_vector(word,seed=108):\n",
    "    try:\n",
    "        return word2vec[word]\n",
    "    except:\n",
    "        return random_vector(seed)\n",
    "\n",
    "\n",
    "# In[66]:\n",
    "\n",
    "\n",
    "def sentence2vector(word_list):\n",
    "    result=[]\n",
    "    for w in word_list:\n",
    "        result.append(get_vector(w))\n",
    "        \n",
    "    return result\n",
    "\n",
    "\n",
    "# In[68]:\n",
    "\n",
    "\n",
    "def get_label(dataset):\n",
    "    label=[]\n",
    "    for d in dataset:\n",
    "        if(d[1]!=5):\n",
    "            label.append(d[1])\n",
    "        else:\n",
    "            label.append(0)\n",
    "    label=np.array(label,dtype='uint8')\n",
    "    \n",
    "    return label\n",
    "\n",
    "\n",
    "# In[91]:\n",
    "\n",
    "\n",
    "# 向量化\n",
    "def vectorize(dataset):\n",
    "    dataset_new=[]\n",
    "    for d in tqdm(dataset):\n",
    "        dataset_new.append(sentence2vector(cut_sentence(d[0])))\n",
    "        \n",
    "    return dataset_new\n",
    "\n",
    "# 截断和补0\n",
    "padding=np.zeros(300,dtype='float64')\n",
    "\n",
    "def unify(dataset,max_len):\n",
    "    for i in tqdm(range(len(dataset))):\n",
    "        if len(dataset[i])==max_len:\n",
    "            pass\n",
    "        elif len(dataset[i])<max_len:\n",
    "            while(len(dataset[i])!=max_len):\n",
    "                dataset[i].append(padding)\n",
    "        else:\n",
    "            dataset[i]=dataset[i][:max_len]\n",
    "            \n",
    "def array2np(dataset):\n",
    "    for index in tqdm(range(len(dataset))):\n",
    "        dataset[index]=np.array(dataset[index])"
   ]
  },
  {
   "cell_type": "code",
   "execution_count": 4,
   "id": "according-modern",
   "metadata": {
    "ExecuteTime": {
     "end_time": "2021-06-15T11:32:57.058682Z",
     "start_time": "2021-06-15T11:31:42.326523Z"
    }
   },
   "outputs": [
    {
     "name": "stdout",
     "output_type": "stream",
     "text": [
      "加载词向量...\n"
     ]
    }
   ],
   "source": [
    "stop_words=load_stopwords('./src/hit_stopwords.txt')\n",
    "word2vec=load_word2vec('../sgns.zhihu.word.bz2')"
   ]
  },
  {
   "cell_type": "code",
   "execution_count": 5,
   "id": "toxic-newsletter",
   "metadata": {
    "ExecuteTime": {
     "end_time": "2021-06-15T11:33:12.732052Z",
     "start_time": "2021-06-15T11:33:12.209453Z"
    }
   },
   "outputs": [
    {
     "name": "stdout",
     "output_type": "stream",
     "text": [
      "加载完成，测试集比例0.2\n",
      "训练集198566条\n",
      "测试集49642条\n"
     ]
    }
   ],
   "source": [
    "train,test=load_data('./augmented/')"
   ]
  },
  {
   "cell_type": "code",
   "execution_count": 7,
   "id": "fifty-ambassador",
   "metadata": {
    "ExecuteTime": {
     "end_time": "2021-06-15T11:34:08.775177Z",
     "start_time": "2021-06-15T11:33:30.725593Z"
    }
   },
   "outputs": [
    {
     "name": "stderr",
     "output_type": "stream",
     "text": [
      "  0%|                                                                                                             | 0/198566 [00:00<?, ?it/s]Building prefix dict from the default dictionary ...\n",
      "Loading model from cache C:\\Users\\liufeng\\AppData\\Local\\Temp\\jieba.cache\n",
      "Loading model cost 0.590 seconds.\n",
      "Prefix dict has been built succesfully.\n",
      "100%|██████████████████████████████████████████████████████████████████████████████████████████████| 198566/198566 [00:38<00:00, 5224.24it/s]\n"
     ]
    }
   ],
   "source": [
    "train_text=vectorize(train)"
   ]
  },
  {
   "cell_type": "code",
   "execution_count": 8,
   "id": "early-realtor",
   "metadata": {
    "ExecuteTime": {
     "end_time": "2021-06-15T11:34:11.778713Z",
     "start_time": "2021-06-15T11:34:11.361495Z"
    }
   },
   "outputs": [
    {
     "name": "stderr",
     "output_type": "stream",
     "text": [
      "100%|████████████████████████████████████████████████████████████████████████████████████████████| 198566/198566 [00:00<00:00, 480514.88it/s]\n"
     ]
    }
   ],
   "source": [
    "unify(train_text,30)"
   ]
  },
  {
   "cell_type": "code",
   "execution_count": 9,
   "id": "major-recognition",
   "metadata": {
    "ExecuteTime": {
     "end_time": "2021-06-15T11:34:22.976592Z",
     "start_time": "2021-06-15T11:34:22.905577Z"
    }
   },
   "outputs": [],
   "source": [
    "train_label=get_label(train)"
   ]
  },
  {
   "cell_type": "code",
   "execution_count": 14,
   "id": "recent-letters",
   "metadata": {
    "ExecuteTime": {
     "end_time": "2021-06-15T11:35:19.709998Z",
     "start_time": "2021-06-15T11:35:08.069260Z"
    }
   },
   "outputs": [
    {
     "name": "stderr",
     "output_type": "stream",
     "text": [
      "100%|█████████████████████████████████████████████████████████████████████████████████████████████| 198566/198566 [00:11<00:00, 17117.46it/s]\n"
     ]
    }
   ],
   "source": [
    "array2np(train_text)"
   ]
  },
  {
   "cell_type": "code",
   "execution_count": 19,
   "id": "better-advocacy",
   "metadata": {
    "ExecuteTime": {
     "end_time": "2021-06-15T11:42:25.183675Z",
     "start_time": "2021-06-15T11:40:30.782277Z"
    }
   },
   "outputs": [],
   "source": [
    "x_train=np.array(train_text)\n",
    "y_train=train_label"
   ]
  },
  {
   "cell_type": "code",
   "execution_count": 20,
   "id": "postal-pillow",
   "metadata": {
    "ExecuteTime": {
     "end_time": "2021-06-15T11:43:52.808798Z",
     "start_time": "2021-06-15T11:43:26.938023Z"
    }
   },
   "outputs": [
    {
     "name": "stderr",
     "output_type": "stream",
     "text": [
      "100%|████████████████████████████████████████████████████████████████████████████████████████████████| 49642/49642 [00:14<00:00, 3407.75it/s]\n",
      "100%|██████████████████████████████████████████████████████████████████████████████████████████████| 49642/49642 [00:00<00:00, 266666.03it/s]\n",
      "100%|████████████████████████████████████████████████████████████████████████████████████████████████| 49642/49642 [00:10<00:00, 4521.23it/s]\n"
     ]
    }
   ],
   "source": [
    "test_text=vectorize(test)\n",
    "unify(test_text,30)\n",
    "test_label=get_label(test)\n",
    "array2np(test_text)"
   ]
  },
  {
   "cell_type": "code",
   "execution_count": 21,
   "id": "elect-component",
   "metadata": {
    "ExecuteTime": {
     "end_time": "2021-06-15T11:44:38.725821Z",
     "start_time": "2021-06-15T11:44:32.856968Z"
    }
   },
   "outputs": [],
   "source": [
    "x_test=np.array(test_text)\n",
    "y_test=test_label"
   ]
  },
  {
   "cell_type": "code",
   "execution_count": null,
   "id": "contrary-corps",
   "metadata": {},
   "outputs": [],
   "source": []
  },
  {
   "cell_type": "code",
   "execution_count": null,
   "id": "deadly-tongue",
   "metadata": {},
   "outputs": [],
   "source": []
  },
  {
   "cell_type": "code",
   "execution_count": 22,
   "id": "elementary-style",
   "metadata": {
    "ExecuteTime": {
     "end_time": "2021-06-15T11:44:50.302983Z",
     "start_time": "2021-06-15T11:44:50.007246Z"
    }
   },
   "outputs": [],
   "source": [
    "MLP=tf.keras.models.Sequential([\n",
    "    Flatten(),\n",
    "    Dense(128,activation='relu'),\n",
    "    Dense(64,activation='relu'),\n",
    "    Dense(4,activation='softmax')\n",
    "])"
   ]
  },
  {
   "cell_type": "code",
   "execution_count": 23,
   "id": "hawaiian-soviet",
   "metadata": {
    "ExecuteTime": {
     "end_time": "2021-06-15T11:44:50.954992Z",
     "start_time": "2021-06-15T11:44:50.925791Z"
    }
   },
   "outputs": [],
   "source": [
    "MLP.compile(\n",
    "    optimizer='adam',\n",
    "    loss=tf.keras.losses.SparseCategoricalCrossentropy(from_logits=False),\n",
    "    metrics=['sparse_categorical_accuracy']\n",
    ")"
   ]
  },
  {
   "cell_type": "code",
   "execution_count": 24,
   "id": "favorite-problem",
   "metadata": {
    "ExecuteTime": {
     "end_time": "2021-06-15T11:56:33.642012Z",
     "start_time": "2021-06-15T11:44:51.705356Z"
    }
   },
   "outputs": [
    {
     "name": "stdout",
     "output_type": "stream",
     "text": [
      "Train on 198566 samples, validate on 49642 samples\n",
      "Epoch 1/20\n",
      "198566/198566 [==============================] - 36s 182us/sample - loss: 0.2480 - sparse_categorical_accuracy: 0.9088 - val_loss: 0.2022 - val_sparse_categorical_accuracy: 0.9269\n",
      "Epoch 2/20\n",
      "198566/198566 [==============================] - 45s 228us/sample - loss: 0.1508 - sparse_categorical_accuracy: 0.9454 - val_loss: 0.1764 - val_sparse_categorical_accuracy: 0.9380\n",
      "Epoch 3/20\n",
      "198566/198566 [==============================] - 35s 176us/sample - loss: 0.1049 - sparse_categorical_accuracy: 0.9619 - val_loss: 0.1682 - val_sparse_categorical_accuracy: 0.9437\n",
      "Epoch 4/20\n",
      "198566/198566 [==============================] - 36s 183us/sample - loss: 0.0780 - sparse_categorical_accuracy: 0.9721 - val_loss: 0.1809 - val_sparse_categorical_accuracy: 0.9460\n",
      "Epoch 5/20\n",
      "198566/198566 [==============================] - 41s 205us/sample - loss: 0.0640 - sparse_categorical_accuracy: 0.9770 - val_loss: 0.1826 - val_sparse_categorical_accuracy: 0.9465\n",
      "Epoch 6/20\n",
      "198566/198566 [==============================] - 35s 174us/sample - loss: 0.0530 - sparse_categorical_accuracy: 0.9811 - val_loss: 0.2043 - val_sparse_categorical_accuracy: 0.9489\n",
      "Epoch 7/20\n",
      "198566/198566 [==============================] - 32s 162us/sample - loss: 0.0460 - sparse_categorical_accuracy: 0.9834 - val_loss: 0.2046 - val_sparse_categorical_accuracy: 0.9508\n",
      "Epoch 8/20\n",
      "198566/198566 [==============================] - 26s 129us/sample - loss: 0.0410 - sparse_categorical_accuracy: 0.9851 - val_loss: 0.2223 - val_sparse_categorical_accuracy: 0.9509\n",
      "Epoch 9/20\n",
      "198566/198566 [==============================] - 30s 149us/sample - loss: 0.0367 - sparse_categorical_accuracy: 0.9867 - val_loss: 0.2555 - val_sparse_categorical_accuracy: 0.9497\n",
      "Epoch 10/20\n",
      "198566/198566 [==============================] - 33s 167us/sample - loss: 0.0334 - sparse_categorical_accuracy: 0.9879 - val_loss: 0.2753 - val_sparse_categorical_accuracy: 0.9504\n",
      "Epoch 11/20\n",
      "198566/198566 [==============================] - 35s 177us/sample - loss: 0.0308 - sparse_categorical_accuracy: 0.9887 - val_loss: 0.2513 - val_sparse_categorical_accuracy: 0.9506\n",
      "Epoch 12/20\n",
      "198566/198566 [==============================] - 37s 186us/sample - loss: 0.0282 - sparse_categorical_accuracy: 0.9898 - val_loss: 0.2799 - val_sparse_categorical_accuracy: 0.9507\n",
      "Epoch 13/20\n",
      "198566/198566 [==============================] - 40s 200us/sample - loss: 0.0267 - sparse_categorical_accuracy: 0.9906 - val_loss: 0.2561 - val_sparse_categorical_accuracy: 0.9523\n",
      "Epoch 14/20\n",
      "198566/198566 [==============================] - 34s 173us/sample - loss: 0.0249 - sparse_categorical_accuracy: 0.9913 - val_loss: 0.2878 - val_sparse_categorical_accuracy: 0.9507\n",
      "Epoch 15/20\n",
      "198566/198566 [==============================] - 35s 175us/sample - loss: 0.0239 - sparse_categorical_accuracy: 0.9914 - val_loss: 0.2947 - val_sparse_categorical_accuracy: 0.9510\n",
      "Epoch 16/20\n",
      "198566/198566 [==============================] - 35s 177us/sample - loss: 0.0226 - sparse_categorical_accuracy: 0.9922 - val_loss: 0.2836 - val_sparse_categorical_accuracy: 0.9512\n",
      "Epoch 17/20\n",
      "198566/198566 [==============================] - 33s 168us/sample - loss: 0.0220 - sparse_categorical_accuracy: 0.9923 - val_loss: 0.2905 - val_sparse_categorical_accuracy: 0.9528\n",
      "Epoch 18/20\n",
      "198566/198566 [==============================] - 32s 159us/sample - loss: 0.0204 - sparse_categorical_accuracy: 0.9929 - val_loss: 0.3365 - val_sparse_categorical_accuracy: 0.9523\n",
      "Epoch 19/20\n",
      "198566/198566 [==============================] - 33s 165us/sample - loss: 0.0188 - sparse_categorical_accuracy: 0.9933 - val_loss: 0.3599 - val_sparse_categorical_accuracy: 0.9502\n",
      "Epoch 20/20\n",
      "198566/198566 [==============================] - 34s 169us/sample - loss: 0.0187 - sparse_categorical_accuracy: 0.9935 - val_loss: 0.3240 - val_sparse_categorical_accuracy: 0.9534\n"
     ]
    },
    {
     "data": {
      "text/plain": [
       "<tensorflow.python.keras.callbacks.History at 0x24f7306bd68>"
      ]
     },
     "execution_count": 24,
     "metadata": {},
     "output_type": "execute_result"
    }
   ],
   "source": [
    "MLP.fit(x_train,y_train,batch_size=32,epochs=20,validation_data=(x_test,y_test),validation_freq=1)"
   ]
  },
  {
   "cell_type": "code",
   "execution_count": 25,
   "id": "military-analyst",
   "metadata": {
    "ExecuteTime": {
     "end_time": "2021-06-15T11:58:01.290203Z",
     "start_time": "2021-06-15T11:57:57.752632Z"
    }
   },
   "outputs": [],
   "source": [
    "p=tf.argmax(MLP.predict(x_test),axis=1)"
   ]
  },
  {
   "cell_type": "code",
   "execution_count": 26,
   "id": "defensive-taylor",
   "metadata": {
    "ExecuteTime": {
     "end_time": "2021-06-15T11:58:01.306264Z",
     "start_time": "2021-06-15T11:58:01.293204Z"
    }
   },
   "outputs": [],
   "source": [
    "def label_back(label):\n",
    "    label_new=label.tolist()\n",
    "    \n",
    "    for i in range(len(label_new)):\n",
    "        if label_new[i]==0:\n",
    "            label_new[i]=5\n",
    "            \n",
    "    return label_new"
   ]
  },
  {
   "cell_type": "code",
   "execution_count": 27,
   "id": "daily-oxygen",
   "metadata": {
    "ExecuteTime": {
     "end_time": "2021-06-15T11:58:01.322247Z",
     "start_time": "2021-06-15T11:58:01.308265Z"
    }
   },
   "outputs": [],
   "source": [
    "label_truth=label_back(y_test)\n",
    "label_predict=label_back(p.numpy())"
   ]
  },
  {
   "cell_type": "code",
   "execution_count": 28,
   "id": "theoretical-battery",
   "metadata": {
    "ExecuteTime": {
     "end_time": "2021-06-15T11:58:03.704847Z",
     "start_time": "2021-06-15T11:58:03.666729Z"
    },
    "scrolled": true
   },
   "outputs": [],
   "source": [
    "from utils.score import score"
   ]
  },
  {
   "cell_type": "code",
   "execution_count": 29,
   "id": "attended-fiber",
   "metadata": {
    "ExecuteTime": {
     "end_time": "2021-06-15T11:58:10.395514Z",
     "start_time": "2021-06-15T11:58:10.164706Z"
    }
   },
   "outputs": [
    {
     "data": {
      "text/html": [
       "<div>\n",
       "<style scoped>\n",
       "    .dataframe tbody tr th:only-of-type {\n",
       "        vertical-align: middle;\n",
       "    }\n",
       "\n",
       "    .dataframe tbody tr th {\n",
       "        vertical-align: top;\n",
       "    }\n",
       "\n",
       "    .dataframe thead th {\n",
       "        text-align: right;\n",
       "    }\n",
       "</style>\n",
       "<table border=\"1\" class=\"dataframe\">\n",
       "  <thead>\n",
       "    <tr style=\"text-align: right;\">\n",
       "      <th></th>\n",
       "      <th>Precision</th>\n",
       "      <th>Recall</th>\n",
       "      <th>F1</th>\n",
       "    </tr>\n",
       "  </thead>\n",
       "  <tbody>\n",
       "    <tr>\n",
       "      <th>军事新闻</th>\n",
       "      <td>0.98</td>\n",
       "      <td>0.97</td>\n",
       "      <td>0.97</td>\n",
       "    </tr>\n",
       "    <tr>\n",
       "      <th>体育新闻</th>\n",
       "      <td>0.99</td>\n",
       "      <td>0.97</td>\n",
       "      <td>0.98</td>\n",
       "    </tr>\n",
       "    <tr>\n",
       "      <th>晋江小说</th>\n",
       "      <td>0.95</td>\n",
       "      <td>0.95</td>\n",
       "      <td>0.95</td>\n",
       "    </tr>\n",
       "    <tr>\n",
       "      <th>电影短评</th>\n",
       "      <td>0.94</td>\n",
       "      <td>0.94</td>\n",
       "      <td>0.94</td>\n",
       "    </tr>\n",
       "    <tr>\n",
       "      <th>综合</th>\n",
       "      <td>0.95</td>\n",
       "      <td>0.95</td>\n",
       "      <td>0.95</td>\n",
       "    </tr>\n",
       "  </tbody>\n",
       "</table>\n",
       "</div>"
      ],
      "text/plain": [
       "      Precision  Recall    F1\n",
       "军事新闻       0.98    0.97  0.97\n",
       "体育新闻       0.99    0.97  0.98\n",
       "晋江小说       0.95    0.95  0.95\n",
       "电影短评       0.94    0.94  0.94\n",
       "综合         0.95    0.95  0.95"
      ]
     },
     "metadata": {},
     "output_type": "display_data"
    },
    {
     "name": "stdout",
     "output_type": "stream",
     "text": [
      "\n",
      "结果保存在mlp_augmented.txt\n"
     ]
    }
   ],
   "source": [
    "score(label_truth,label_predict,output_filename='mlp_augmented.txt')"
   ]
  }
 ],
 "metadata": {
  "kernelspec": {
   "display_name": "Python 3",
   "language": "python",
   "name": "python3"
  },
  "language_info": {
   "codemirror_mode": {
    "name": "ipython",
    "version": 3
   },
   "file_extension": ".py",
   "mimetype": "text/x-python",
   "name": "python",
   "nbconvert_exporter": "python",
   "pygments_lexer": "ipython3",
   "version": "3.7.0"
  }
 },
 "nbformat": 4,
 "nbformat_minor": 5
}
