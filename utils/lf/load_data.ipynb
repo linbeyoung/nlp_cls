{
 "cells": [
  {
   "cell_type": "code",
   "execution_count": 58,
   "id": "graphic-newman",
   "metadata": {
    "ExecuteTime": {
     "end_time": "2021-06-11T02:26:43.805037Z",
     "start_time": "2021-06-11T02:26:43.791045Z"
    }
   },
   "outputs": [],
   "source": [
    "import sys\n",
    "sys.path.append('../')"
   ]
  },
  {
   "cell_type": "code",
   "execution_count": 59,
   "id": "regular-washington",
   "metadata": {
    "ExecuteTime": {
     "end_time": "2021-06-11T02:26:44.770938Z",
     "start_time": "2021-06-11T02:26:44.766956Z"
    }
   },
   "outputs": [],
   "source": [
    "import jieba\n",
    "import gensim\n",
    "\n",
    "import matplotlib.pyplot as plt\n",
    "import numpy as np\n",
    "\n",
    "from data_loader import load_data\n",
    "from tqdm import tqdm"
   ]
  },
  {
   "cell_type": "code",
   "execution_count": 60,
   "id": "disturbed-recruitment",
   "metadata": {
    "ExecuteTime": {
     "end_time": "2021-06-11T02:26:46.907262Z",
     "start_time": "2021-06-11T02:26:46.902272Z"
    }
   },
   "outputs": [],
   "source": [
    "def load_stopwords(path_to_file):\n",
    "    stop_words=set()\n",
    "    with open(path_to_file,encoding=\"utf-8\") as f:\n",
    "        content=f.readlines()\n",
    "    for word in content:\n",
    "        stop_words.add(word.strip('\\n'))\n",
    "        \n",
    "    return stop_words"
   ]
  },
  {
   "cell_type": "code",
   "execution_count": 61,
   "id": "cooked-wrist",
   "metadata": {
    "ExecuteTime": {
     "end_time": "2021-06-11T02:26:48.200308Z",
     "start_time": "2021-06-11T02:26:48.191305Z"
    }
   },
   "outputs": [],
   "source": [
    "def cut_sentence(sentence):\n",
    "    \"\"\"\n",
    "    分词，去停用词，返回一个列表\n",
    "    \"\"\"\n",
    "    result=[]\n",
    "    for word in jieba.lcut(sentence):\n",
    "        if word not in stop_words:\n",
    "            result.append(word)\n",
    "            \n",
    "    return result"
   ]
  },
  {
   "cell_type": "code",
   "execution_count": 62,
   "id": "neutral-greene",
   "metadata": {
    "ExecuteTime": {
     "end_time": "2021-06-11T02:26:48.747843Z",
     "start_time": "2021-06-11T02:26:48.738846Z"
    }
   },
   "outputs": [],
   "source": [
    "def load_word2vec(path_to_file):\n",
    "    print(\"加载词向量...\")\n",
    "    return gensim.models.KeyedVectors.load_word2vec_format(path_to_file,binary=False)"
   ]
  },
  {
   "cell_type": "code",
   "execution_count": 64,
   "id": "returning-experiment",
   "metadata": {
    "ExecuteTime": {
     "end_time": "2021-06-11T02:27:02.508543Z",
     "start_time": "2021-06-11T02:27:02.498556Z"
    }
   },
   "outputs": [],
   "source": [
    "def random_vector(seed):\n",
    "    np.random.seed(seed)\n",
    "    vec=-1 + 2*np.random.random((300))\n",
    "    vec=vec.astype('float64')\n",
    "    \n",
    "    return vec"
   ]
  },
  {
   "cell_type": "code",
   "execution_count": 65,
   "id": "naked-outdoors",
   "metadata": {
    "ExecuteTime": {
     "end_time": "2021-06-11T02:27:06.354250Z",
     "start_time": "2021-06-11T02:27:06.350270Z"
    }
   },
   "outputs": [],
   "source": [
    "def get_vector(word,seed=108):\n",
    "    try:\n",
    "        return word2vec[word]\n",
    "    except:\n",
    "        return random_vector(seed)"
   ]
  },
  {
   "cell_type": "code",
   "execution_count": 66,
   "id": "regular-project",
   "metadata": {
    "ExecuteTime": {
     "end_time": "2021-06-11T02:27:12.132013Z",
     "start_time": "2021-06-11T02:27:12.125013Z"
    }
   },
   "outputs": [],
   "source": [
    "def sentence2vector(word_list):\n",
    "    result=[]\n",
    "    for w in word_list:\n",
    "        result.append(get_vector(w))\n",
    "        \n",
    "    return result"
   ]
  },
  {
   "cell_type": "code",
   "execution_count": 68,
   "id": "violent-latvia",
   "metadata": {
    "ExecuteTime": {
     "end_time": "2021-06-11T02:28:36.266936Z",
     "start_time": "2021-06-11T02:28:36.252947Z"
    }
   },
   "outputs": [],
   "source": [
    "def get_label(dataset):\n",
    "    label=[]\n",
    "    for d in dataset:\n",
    "        if(d[1]!=5):\n",
    "            label.append(d[1])\n",
    "        else:\n",
    "            label.append(0)\n",
    "    label=np.array(label,dtype='uint8')\n",
    "    \n",
    "    return label"
   ]
  },
  {
   "cell_type": "code",
   "execution_count": 91,
   "id": "directed-prospect",
   "metadata": {
    "ExecuteTime": {
     "end_time": "2021-06-11T02:44:14.562832Z",
     "start_time": "2021-06-11T02:44:14.548825Z"
    }
   },
   "outputs": [],
   "source": [
    "# 向量化\n",
    "def vectorize(dataset):\n",
    "    dataset_new=[]\n",
    "    for d in tqdm(dataset):\n",
    "        dataset_new.append(sentence2vector(cut_sentence(d[0])))\n",
    "        \n",
    "    return dataset_new\n",
    "\n",
    "# 截断和补0\n",
    "padding=np.zeros(300,dtype='float64')\n",
    "\n",
    "def unify(dataset,max_len):\n",
    "    for i in tqdm(range(len(dataset))):\n",
    "        if len(dataset[i])==max_len:\n",
    "            pass\n",
    "        elif len(dataset[i])<max_len:\n",
    "            while(len(dataset[i])!=max_len):\n",
    "                dataset[i].append(padding)\n",
    "        else:\n",
    "            dataset[i]=dataset[i][:max_len]\n",
    "            \n",
    "def array2np(dataset):\n",
    "    for index in tqdm(range(len(dataset))):\n",
    "        dataset[index]=np.array(dataset[index])"
   ]
  },
  {
   "cell_type": "code",
   "execution_count": 92,
   "id": "greek-treasury",
   "metadata": {
    "ExecuteTime": {
     "end_time": "2021-06-11T02:44:15.465605Z",
     "start_time": "2021-06-11T02:44:15.452403Z"
    }
   },
   "outputs": [],
   "source": [
    "def load_data_mlp():\n",
    "    train,test=load_data('../../小组作业-语料/')\n",
    "    train_text=vectorize(train)\n",
    "    unify(train_text,30)\n",
    "    train_label=get_label(train)\n",
    "    \n",
    "    test_text=vectorize(test)\n",
    "    unify(test_text,30)\n",
    "    test_label=get_label(test)\n",
    "    \n",
    "    array2np(train_text)\n",
    "    array2np(test_text)\n",
    "    \n",
    "    return (np.array(train_text),train_label),(np.array(test_text),test_label)"
   ]
  },
  {
   "cell_type": "code",
   "execution_count": 70,
   "id": "separate-panic",
   "metadata": {
    "ExecuteTime": {
     "end_time": "2021-06-11T02:30:34.021388Z",
     "start_time": "2021-06-11T02:29:14.215181Z"
    }
   },
   "outputs": [
    {
     "name": "stdout",
     "output_type": "stream",
     "text": [
      "加载词向量...\n"
     ]
    }
   ],
   "source": [
    "stop_words=load_stopwords('../../src/hit_stopwords.txt')\n",
    "word2vec=load_word2vec('../../../sgns.zhihu.word.bz2')"
   ]
  }
 ],
 "metadata": {
  "kernelspec": {
   "display_name": "Python 3",
   "language": "python",
   "name": "python3"
  },
  "language_info": {
   "codemirror_mode": {
    "name": "ipython",
    "version": 3
   },
   "file_extension": ".py",
   "mimetype": "text/x-python",
   "name": "python",
   "nbconvert_exporter": "python",
   "pygments_lexer": "ipython3",
   "version": "3.7.0"
  }
 },
 "nbformat": 4,
 "nbformat_minor": 5
}
