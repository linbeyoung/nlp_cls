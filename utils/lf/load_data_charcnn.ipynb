{
 "cells": [
  {
   "cell_type": "code",
   "execution_count": 42,
   "id": "italic-factory",
   "metadata": {
    "ExecuteTime": {
     "end_time": "2021-06-14T14:19:11.970998Z",
     "start_time": "2021-06-14T14:19:11.969012Z"
    }
   },
   "outputs": [],
   "source": [
    "import sys\n",
    "sys.path.append('../')\n",
    "sys.path.append('../../')"
   ]
  },
  {
   "cell_type": "code",
   "execution_count": 3,
   "id": "institutional-rotation",
   "metadata": {
    "ExecuteTime": {
     "end_time": "2021-06-14T13:42:24.669496Z",
     "start_time": "2021-06-14T13:42:24.286456Z"
    }
   },
   "outputs": [],
   "source": [
    "import copy\n",
    "\n",
    "import matplotlib.pyplot as plt\n",
    "import numpy as np\n",
    "\n",
    "from data_loader import load_data\n",
    "from tqdm import tqdm"
   ]
  },
  {
   "cell_type": "code",
   "execution_count": 4,
   "id": "first-sustainability",
   "metadata": {
    "ExecuteTime": {
     "end_time": "2021-06-14T13:42:24.685456Z",
     "start_time": "2021-06-14T13:42:24.670490Z"
    }
   },
   "outputs": [],
   "source": [
    "global word_dict,index_dict\n",
    "word_dict={}\n",
    "index_dict={}"
   ]
  },
  {
   "cell_type": "code",
   "execution_count": 5,
   "id": "operational-split",
   "metadata": {
    "ExecuteTime": {
     "end_time": "2021-06-14T13:42:24.904067Z",
     "start_time": "2021-06-14T13:42:24.887064Z"
    }
   },
   "outputs": [],
   "source": [
    "def count_freq():\n",
    "    \"\"\"\n",
    "    统计字频\n",
    "    \"\"\"\n",
    "    global word_dict\n",
    "    \n",
    "    for t in tqdm(train):\n",
    "        for char in t[0]:\n",
    "            if char in word_dict:\n",
    "                word_dict[char]+=1\n",
    "            else:\n",
    "                word_dict[char]=1"
   ]
  },
  {
   "cell_type": "code",
   "execution_count": 6,
   "id": "realistic-hardwood",
   "metadata": {
    "ExecuteTime": {
     "end_time": "2021-06-14T13:42:25.310352Z",
     "start_time": "2021-06-14T13:42:25.298356Z"
    }
   },
   "outputs": [],
   "source": [
    "def make_index():\n",
    "    \"\"\"\n",
    "    为每个单词打上标号\n",
    "    \"\"\"\n",
    "    global index_dict,word_dict\n",
    "    \n",
    "    temp=sorted(word_dict.items(),key=lambda x:x[1],reverse=True)\n",
    "    for index,content in tqdm(enumerate(temp)):\n",
    "        index_dict[content[0]]=index+1"
   ]
  },
  {
   "cell_type": "code",
   "execution_count": 7,
   "id": "possible-transaction",
   "metadata": {
    "ExecuteTime": {
     "end_time": "2021-06-14T13:42:25.702303Z",
     "start_time": "2021-06-14T13:42:25.686280Z"
    }
   },
   "outputs": [],
   "source": [
    "def show_length():\n",
    "    \"\"\"\n",
    "    统计文章字长\n",
    "    \"\"\"\n",
    "    global train\n",
    "    \n",
    "    l=[]\n",
    "    for t in train:\n",
    "        l.append(len(t[0]))\n",
    "        \n",
    "    a=0\n",
    "    b=0\n",
    "    c=0\n",
    "    d=0\n",
    "    e=0\n",
    "    \n",
    "    for i in l:\n",
    "        if 0<=i<50:\n",
    "            a+=1\n",
    "        elif 50<=i<100:\n",
    "            b+=1\n",
    "        elif 100<=i<150:\n",
    "            c+=1\n",
    "        elif 150<=i<200:\n",
    "            d+=1\n",
    "        else:\n",
    "            e+=1\n",
    "        \n",
    "    print([a,b,c,d,e])"
   ]
  },
  {
   "cell_type": "code",
   "execution_count": 8,
   "id": "convenient-alloy",
   "metadata": {
    "ExecuteTime": {
     "end_time": "2021-06-14T13:42:26.266260Z",
     "start_time": "2021-06-14T13:42:26.261279Z"
    }
   },
   "outputs": [],
   "source": [
    "def to_one_hot(dataset):\n",
    "    \"\"\"\n",
    "    数据集转换为one-hot编码\n",
    "    \"\"\"\n",
    "    global index_dict\n",
    "        \n",
    "    dataset_new=copy.deepcopy(dataset)\n",
    "    for index,content in enumerate(dataset_new):\n",
    "        temp=[]\n",
    "        for char in content[0]:\n",
    "            if char in index_dict:\n",
    "                temp.append(index_dict[char])\n",
    "            else:\n",
    "                temp.append(0)\n",
    "        dataset_new[index][0]=temp\n",
    "        \n",
    "    return dataset_new"
   ]
  },
  {
   "cell_type": "code",
   "execution_count": 9,
   "id": "conventional-spending",
   "metadata": {
    "ExecuteTime": {
     "end_time": "2021-06-14T13:42:26.691085Z",
     "start_time": "2021-06-14T13:42:26.687097Z"
    }
   },
   "outputs": [],
   "source": [
    "def unify(dataset,max_len=150):\n",
    "    \"\"\"\n",
    "    截断和补零\n",
    "    \"\"\"\n",
    "    \n",
    "    for index,content in enumerate(dataset):\n",
    "        if len(content[0])==max_len:\n",
    "            pass\n",
    "        elif len(content[0])>max_len:\n",
    "            content[0]=content[0][:max_len]\n",
    "            dataset[index]=content\n",
    "        else:\n",
    "            while(len(content[0])!=150):\n",
    "                content[0].append(0)\n",
    "            dataset[index]=content"
   ]
  },
  {
   "cell_type": "code",
   "execution_count": 10,
   "id": "loaded-anime",
   "metadata": {
    "ExecuteTime": {
     "end_time": "2021-06-14T13:42:27.505856Z",
     "start_time": "2021-06-14T13:42:27.498152Z"
    }
   },
   "outputs": [],
   "source": [
    "def array2numpy(dataset):\n",
    "    x=[]\n",
    "    y=[]\n",
    "    for d in dataset:\n",
    "        x.append(np.array(d[0]))\n",
    "        if d[1]==5:\n",
    "            y.append(np.array(0))\n",
    "        else:\n",
    "            y.append(np.array(d[1]))\n",
    "    x=np.array(x,dtype='float32')\n",
    "    y=np.array(y,dtype='uint8')\n",
    "    return x,y"
   ]
  },
  {
   "cell_type": "code",
   "execution_count": 18,
   "id": "living-revision",
   "metadata": {
    "ExecuteTime": {
     "end_time": "2021-06-14T13:43:11.743340Z",
     "start_time": "2021-06-14T13:43:11.737345Z"
    }
   },
   "outputs": [],
   "source": [
    "def load_data_charcnn():\n",
    "    global train,test\n",
    "    train,test=load_data('../../小组作业-语料/')\n",
    "    count_freq()\n",
    "    make_index()\n",
    "    \n",
    "    train_one_hot=to_one_hot(train)\n",
    "    test_one_hot=to_one_hot(train)\n",
    "    \n",
    "    unify(train_one_hot)\n",
    "    unify(test_one_hot)\n",
    "    \n",
    "    x_train,y_train=array2numpy(train_one_hot)\n",
    "    x_test,y_test=array2numpy(test_one_hot)\n",
    "    \n",
    "    x_train=x_train.reshape(x_train.shape[0],150,1)\n",
    "    x_test=x_test.reshape(x_test.shape[0],150,1)\n",
    "    \n",
    "    return (x_train,y_train),(x_test,y_test)"
   ]
  }
 ],
 "metadata": {
  "kernelspec": {
   "display_name": "Python 3",
   "language": "python",
   "name": "python3"
  },
  "language_info": {
   "codemirror_mode": {
    "name": "ipython",
    "version": 3
   },
   "file_extension": ".py",
   "mimetype": "text/x-python",
   "name": "python",
   "nbconvert_exporter": "python",
   "pygments_lexer": "ipython3",
   "version": "3.7.0"
  }
 },
 "nbformat": 4,
 "nbformat_minor": 5
}
