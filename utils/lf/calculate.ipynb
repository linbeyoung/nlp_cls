{
 "cells": [
  {
   "cell_type": "code",
   "execution_count": 186,
   "id": "breeding-player",
   "metadata": {
    "ExecuteTime": {
     "end_time": "2021-06-11T08:03:55.430986Z",
     "start_time": "2021-06-11T08:03:55.411984Z"
    }
   },
   "outputs": [],
   "source": [
    "try:\n",
    "    from IPython.display import display\n",
    "except:\n",
    "    print(\"缺少IPython模块，结果将不会进行可视化展示\")\n",
    "\n",
    "import matplotlib.pyplot as plt\n",
    "import pandas as pd"
   ]
  },
  {
   "cell_type": "code",
   "execution_count": 31,
   "id": "intellectual-confirmation",
   "metadata": {
    "ExecuteTime": {
     "end_time": "2021-06-11T07:11:30.260374Z",
     "start_time": "2021-06-11T07:11:30.250361Z"
    }
   },
   "outputs": [],
   "source": [
    "def base():\n",
    "    global data,label_truth,label_predict\n",
    "    data={\n",
    "        1:{'tp':0,'fp':0,'fn':0},\n",
    "        2:{'tp':0,'fp':0,'fn':0},\n",
    "        3:{'tp':0,'fp':0,'fn':0},\n",
    "        5:{'tp':0,'fp':0,'fn':0},\n",
    "        'all':{'tp':0,'fp':0,'fn':0},\n",
    "    }\n",
    "    for index,predict in enumerate(label_predict):\n",
    "        if predict==label_truth[index]:\n",
    "            data[label_truth[index]]['tp']+=1\n",
    "        else:\n",
    "            data[predict]['fp']+=1\n",
    "            data[label_truth[index]]['fn']+=1\n",
    "            \n",
    "    for genre in [1,2,3,5]:\n",
    "        data['all']['tp']+=data[genre]['tp']\n",
    "        data['all']['fp']+=data[genre]['fp']\n",
    "        data['all']['fn']+=data[genre]['fn']"
   ]
  },
  {
   "cell_type": "code",
   "execution_count": 104,
   "id": "historical-arthur",
   "metadata": {
    "ExecuteTime": {
     "end_time": "2021-06-11T07:44:19.505641Z",
     "start_time": "2021-06-11T07:44:19.486134Z"
    }
   },
   "outputs": [],
   "source": [
    "def calculate():\n",
    "    global data,result\n",
    "    result={\n",
    "        1:{'precision':None,'recall':None,'f1':None},\n",
    "        2:{'precision':None,'recall':None,'f1':None},\n",
    "        3:{'precision':None,'recall':None,'f1':None},\n",
    "        5:{'precision':None,'recall':None,'f1':None},\n",
    "        'all':{'precision':None,'recall':None,'f1':None}\n",
    "    }\n",
    "    for genre in [1,2,3,5,'all']:\n",
    "        result[genre]['precision']=float(data[genre]['tp']/(data[genre]['tp']+data[genre]['fp']))\n",
    "        result[genre]['recall']=float(data[genre]['tp']/(data[genre]['tp']+data[genre]['fn']))\n",
    "        result[genre]['f1']=2*result[genre]['precision']*result[genre]['recall']/(result[genre]['recall']+result[genre]['precision'])"
   ]
  },
  {
   "cell_type": "code",
   "execution_count": 187,
   "id": "parallel-survey",
   "metadata": {
    "ExecuteTime": {
     "end_time": "2021-06-11T08:04:06.914945Z",
     "start_time": "2021-06-11T08:04:06.903951Z"
    }
   },
   "outputs": [],
   "source": [
    "def show():\n",
    "    global df\n",
    "    pd.set_option('precision', 2)\n",
    "    scores = {\n",
    "    'Precision' : [result[genre]['precision'] for genre in [1,2,3,5,'all']],\n",
    "    'Recall' : [result[genre]['recall'] for genre in [1,2,3,5,'all']],\n",
    "    'F1' : [result[genre]['f1'] for genre in [1,2,3,5,'all']],\n",
    "    }\n",
    "    df = pd.DataFrame(scores,index=['军事新闻', '体育新闻', '晋江小说', '电影短评','综合'])\n",
    "    try:\n",
    "        display(df)\n",
    "    except:\n",
    "        pass"
   ]
  },
  {
   "cell_type": "code",
   "execution_count": 182,
   "id": "suspected-circulation",
   "metadata": {
    "ExecuteTime": {
     "end_time": "2021-06-11T08:02:27.092709Z",
     "start_time": "2021-06-11T08:02:27.078640Z"
    }
   },
   "outputs": [],
   "source": [
    "def save_to_file(output_filename):\n",
    "    global df\n",
    "    df.to_csv(output_filename, sep='\\t',index=True, header=True,encoding='gbk',float_format='%.2f')\n",
    "    print(\"\\n结果保存在%s\"%output_filename)"
   ]
  },
  {
   "cell_type": "code",
   "execution_count": 183,
   "id": "criminal-grass",
   "metadata": {
    "ExecuteTime": {
     "end_time": "2021-06-11T08:02:27.357340Z",
     "start_time": "2021-06-11T08:02:27.348332Z"
    }
   },
   "outputs": [],
   "source": [
    "def score(label_truth,label_predict,output_filename=None):\n",
    "    if len(label_truth)!=len(label_predict):\n",
    "        print(\"Error: 预测值个数和真实值个数不匹配！\")\n",
    "        return\n",
    "    \n",
    "    base()\n",
    "    calculate()\n",
    "    show()\n",
    "    if output_filename:\n",
    "        save_to_file(output_filename)"
   ]
  },
  {
   "cell_type": "code",
   "execution_count": 188,
   "id": "proof-hunter",
   "metadata": {
    "ExecuteTime": {
     "end_time": "2021-06-11T08:04:10.643597Z",
     "start_time": "2021-06-11T08:04:10.624597Z"
    }
   },
   "outputs": [
    {
     "data": {
      "text/html": [
       "<div>\n",
       "<style scoped>\n",
       "    .dataframe tbody tr th:only-of-type {\n",
       "        vertical-align: middle;\n",
       "    }\n",
       "\n",
       "    .dataframe tbody tr th {\n",
       "        vertical-align: top;\n",
       "    }\n",
       "\n",
       "    .dataframe thead th {\n",
       "        text-align: right;\n",
       "    }\n",
       "</style>\n",
       "<table border=\"1\" class=\"dataframe\">\n",
       "  <thead>\n",
       "    <tr style=\"text-align: right;\">\n",
       "      <th></th>\n",
       "      <th>Precision</th>\n",
       "      <th>Recall</th>\n",
       "      <th>F1</th>\n",
       "    </tr>\n",
       "  </thead>\n",
       "  <tbody>\n",
       "    <tr>\n",
       "      <th>军事新闻</th>\n",
       "      <td>0.50</td>\n",
       "      <td>0.75</td>\n",
       "      <td>0.60</td>\n",
       "    </tr>\n",
       "    <tr>\n",
       "      <th>体育新闻</th>\n",
       "      <td>0.25</td>\n",
       "      <td>0.25</td>\n",
       "      <td>0.25</td>\n",
       "    </tr>\n",
       "    <tr>\n",
       "      <th>晋江小说</th>\n",
       "      <td>0.25</td>\n",
       "      <td>0.20</td>\n",
       "      <td>0.22</td>\n",
       "    </tr>\n",
       "    <tr>\n",
       "      <th>电影短评</th>\n",
       "      <td>1.00</td>\n",
       "      <td>0.80</td>\n",
       "      <td>0.89</td>\n",
       "    </tr>\n",
       "    <tr>\n",
       "      <th>综合</th>\n",
       "      <td>0.50</td>\n",
       "      <td>0.50</td>\n",
       "      <td>0.50</td>\n",
       "    </tr>\n",
       "  </tbody>\n",
       "</table>\n",
       "</div>"
      ],
      "text/plain": [
       "      Precision  Recall    F1\n",
       "军事新闻       0.50    0.75  0.60\n",
       "体育新闻       0.25    0.25  0.25\n",
       "晋江小说       0.25    0.20  0.22\n",
       "电影短评       1.00    0.80  0.89\n",
       "综合         0.50    0.50  0.50"
      ]
     },
     "metadata": {},
     "output_type": "display_data"
    },
    {
     "name": "stdout",
     "output_type": "stream",
     "text": [
      "\n",
      "结果保存在mlp.txt\n"
     ]
    }
   ],
   "source": [
    "score(label_truth,label_predict,output_filename='mlp.txt')"
   ]
  },
  {
   "cell_type": "code",
   "execution_count": null,
   "id": "royal-showcase",
   "metadata": {},
   "outputs": [],
   "source": []
  }
 ],
 "metadata": {
  "kernelspec": {
   "display_name": "Python 3",
   "language": "python",
   "name": "python3"
  },
  "language_info": {
   "codemirror_mode": {
    "name": "ipython",
    "version": 3
   },
   "file_extension": ".py",
   "mimetype": "text/x-python",
   "name": "python",
   "nbconvert_exporter": "python",
   "pygments_lexer": "ipython3",
   "version": "3.7.0"
  }
 },
 "nbformat": 4,
 "nbformat_minor": 5
}
