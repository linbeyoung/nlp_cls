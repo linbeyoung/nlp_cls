{
 "cells": [
  {
   "cell_type": "code",
   "execution_count": 1,
   "metadata": {
    "ExecuteTime": {
     "end_time": "2021-06-13T11:29:13.734305Z",
     "start_time": "2021-06-13T11:27:51.334170Z"
    }
   },
   "outputs": [
    {
     "name": "stderr",
     "output_type": "stream",
     "text": [
      "C:\\Users\\liufeng\\.conda\\envs\\pytorch\\lib\\site-packages\\gensim\\similarities\\__init__.py:15: UserWarning: The gensim.similarities.levenshtein submodule is disabled, because the optional Levenshtein package <https://pypi.org/project/python-Levenshtein/> is unavailable. Install Levenhstein (e.g. `pip install python-Levenshtein`) to suppress this warning.\n",
      "  warnings.warn(msg)\n"
     ]
    },
    {
     "name": "stdout",
     "output_type": "stream",
     "text": [
      "加载词向量...\n"
     ]
    }
   ],
   "source": [
    "import tensorflow as tf\n",
    "\n",
    "from tensorflow.keras.layers import Dense, Flatten\n",
    "from utils.lf.load_data import load_data_mlp"
   ]
  },
  {
   "cell_type": "code",
   "execution_count": 18,
   "metadata": {
    "ExecuteTime": {
     "end_time": "2021-06-13T12:00:38.900156Z",
     "start_time": "2021-06-13T12:00:24.082806Z"
    }
   },
   "outputs": [
    {
     "name": "stderr",
     "output_type": "stream",
     "text": [
      "  3%|██▊                                                                                                | 1069/37884 [00:00<00:06, 5277.31it/s]"
     ]
    },
    {
     "name": "stdout",
     "output_type": "stream",
     "text": [
      "加载完成，测试集比例0.2\n",
      "训练集37884条\n",
      "测试集9472条\n"
     ]
    },
    {
     "name": "stderr",
     "output_type": "stream",
     "text": [
      "100%|██████████████████████████████████████████████████████████████████████████████████████████████████| 37884/37884 [00:07<00:00, 5186.14it/s]\n",
      "100%|████████████████████████████████████████████████████████████████████████████████████████████████| 37884/37884 [00:00<00:00, 451228.66it/s]\n",
      "100%|████████████████████████████████████████████████████████████████████████████████████████████████████| 9472/9472 [00:01<00:00, 5210.17it/s]\n",
      "100%|██████████████████████████████████████████████████████████████████████████████████████████████████| 9472/9472 [00:00<00:00, 450839.73it/s]\n",
      "100%|█████████████████████████████████████████████████████████████████████████████████████████████████| 37884/37884 [00:01<00:00, 26602.59it/s]\n",
      "100%|███████████████████████████████████████████████████████████████████████████████████████████████████| 9472/9472 [00:00<00:00, 14634.16it/s]\n"
     ]
    }
   ],
   "source": [
    "(x_train,y_train),(x_test,y_test)=load_data_mlp()"
   ]
  },
  {
   "cell_type": "code",
   "execution_count": 3,
   "metadata": {
    "ExecuteTime": {
     "end_time": "2021-06-13T11:29:27.965538Z",
     "start_time": "2021-06-13T11:29:27.936648Z"
    }
   },
   "outputs": [],
   "source": [
    "MLP=tf.keras.models.Sequential([\n",
    "    Flatten(),\n",
    "    Dense(128,activation='relu'),\n",
    "    Dense(64,activation='relu'),\n",
    "    Dense(4,activation='softmax')\n",
    "])"
   ]
  },
  {
   "cell_type": "code",
   "execution_count": 4,
   "metadata": {
    "ExecuteTime": {
     "end_time": "2021-06-13T11:29:27.981582Z",
     "start_time": "2021-06-13T11:29:27.967520Z"
    }
   },
   "outputs": [],
   "source": [
    "MLP.compile(\n",
    "    optimizer='adam',\n",
    "    loss=tf.keras.losses.SparseCategoricalCrossentropy(from_logits=False),\n",
    "    metrics=['sparse_categorical_accuracy']\n",
    ")"
   ]
  },
  {
   "cell_type": "code",
   "execution_count": 5,
   "metadata": {
    "ExecuteTime": {
     "end_time": "2021-06-13T11:31:03.939674Z",
     "start_time": "2021-06-13T11:29:33.710365Z"
    }
   },
   "outputs": [
    {
     "name": "stdout",
     "output_type": "stream",
     "text": [
      "Train on 37884 samples, validate on 9472 samples\n",
      "Epoch 1/20\n",
      "37884/37884 [==============================] - 5s 134us/sample - loss: 0.3317 - sparse_categorical_accuracy: 0.8768 - val_loss: 0.2862 - val_sparse_categorical_accuracy: 0.8954\n",
      "Epoch 2/20\n",
      "37884/37884 [==============================] - 4s 113us/sample - loss: 0.2041 - sparse_categorical_accuracy: 0.9246 - val_loss: 0.2773 - val_sparse_categorical_accuracy: 0.9052\n",
      "Epoch 3/20\n",
      "37884/37884 [==============================] - 4s 113us/sample - loss: 0.1554 - sparse_categorical_accuracy: 0.9432 - val_loss: 0.3017 - val_sparse_categorical_accuracy: 0.9038\n",
      "Epoch 4/20\n",
      "37884/37884 [==============================] - 4s 113us/sample - loss: 0.1219 - sparse_categorical_accuracy: 0.9549 - val_loss: 0.3261 - val_sparse_categorical_accuracy: 0.8965\n",
      "Epoch 5/20\n",
      "37884/37884 [==============================] - 4s 113us/sample - loss: 0.0843 - sparse_categorical_accuracy: 0.9704 - val_loss: 0.3605 - val_sparse_categorical_accuracy: 0.9030\n",
      "Epoch 6/20\n",
      "37884/37884 [==============================] - 4s 113us/sample - loss: 0.0633 - sparse_categorical_accuracy: 0.9781 - val_loss: 0.4690 - val_sparse_categorical_accuracy: 0.8897\n",
      "Epoch 7/20\n",
      "37884/37884 [==============================] - 4s 113us/sample - loss: 0.0571 - sparse_categorical_accuracy: 0.9804 - val_loss: 0.4429 - val_sparse_categorical_accuracy: 0.9070\n",
      "Epoch 8/20\n",
      "37884/37884 [==============================] - 4s 113us/sample - loss: 0.0462 - sparse_categorical_accuracy: 0.9839 - val_loss: 0.5127 - val_sparse_categorical_accuracy: 0.9032\n",
      "Epoch 9/20\n",
      "37884/37884 [==============================] - 4s 114us/sample - loss: 0.0396 - sparse_categorical_accuracy: 0.9865 - val_loss: 0.5324 - val_sparse_categorical_accuracy: 0.9030\n",
      "Epoch 10/20\n",
      "37884/37884 [==============================] - 4s 115us/sample - loss: 0.0356 - sparse_categorical_accuracy: 0.9876 - val_loss: 0.5506 - val_sparse_categorical_accuracy: 0.9047\n",
      "Epoch 11/20\n",
      "37884/37884 [==============================] - 4s 114us/sample - loss: 0.0358 - sparse_categorical_accuracy: 0.9877 - val_loss: 0.6618 - val_sparse_categorical_accuracy: 0.8924\n",
      "Epoch 12/20\n",
      "37884/37884 [==============================] - 4s 114us/sample - loss: 0.0310 - sparse_categorical_accuracy: 0.9899 - val_loss: 0.6047 - val_sparse_categorical_accuracy: 0.9051\n",
      "Epoch 13/20\n",
      "37884/37884 [==============================] - 4s 113us/sample - loss: 0.0283 - sparse_categorical_accuracy: 0.9907 - val_loss: 0.6165 - val_sparse_categorical_accuracy: 0.8986\n",
      "Epoch 14/20\n",
      "37884/37884 [==============================] - 4s 114us/sample - loss: 0.0236 - sparse_categorical_accuracy: 0.9918 - val_loss: 0.6443 - val_sparse_categorical_accuracy: 0.9007\n",
      "Epoch 15/20\n",
      "37884/37884 [==============================] - 4s 114us/sample - loss: 0.0320 - sparse_categorical_accuracy: 0.9892 - val_loss: 0.6077 - val_sparse_categorical_accuracy: 0.9083\n",
      "Epoch 16/20\n",
      "37884/37884 [==============================] - 4s 113us/sample - loss: 0.0198 - sparse_categorical_accuracy: 0.9927 - val_loss: 0.7032 - val_sparse_categorical_accuracy: 0.9042\n",
      "Epoch 17/20\n",
      "37884/37884 [==============================] - 4s 113us/sample - loss: 0.0207 - sparse_categorical_accuracy: 0.9923 - val_loss: 0.7338 - val_sparse_categorical_accuracy: 0.8978\n",
      "Epoch 18/20\n",
      "37884/37884 [==============================] - 4s 114us/sample - loss: 0.0259 - sparse_categorical_accuracy: 0.9914 - val_loss: 0.6650 - val_sparse_categorical_accuracy: 0.9049\n",
      "Epoch 19/20\n",
      "37884/37884 [==============================] - 4s 113us/sample - loss: 0.0192 - sparse_categorical_accuracy: 0.9933 - val_loss: 0.7590 - val_sparse_categorical_accuracy: 0.9019\n",
      "Epoch 20/20\n",
      "37884/37884 [==============================] - 4s 114us/sample - loss: 0.0179 - sparse_categorical_accuracy: 0.9939 - val_loss: 0.7272 - val_sparse_categorical_accuracy: 0.9046\n"
     ]
    },
    {
     "data": {
      "text/plain": [
       "<tensorflow.python.keras.callbacks.History at 0x1cf3acbea90>"
      ]
     },
     "execution_count": 5,
     "metadata": {},
     "output_type": "execute_result"
    }
   ],
   "source": [
    "MLP.fit(x_train,y_train,batch_size=32,epochs=20,validation_data=(x_test,y_test),validation_freq=1)"
   ]
  },
  {
   "cell_type": "code",
   "execution_count": 6,
   "metadata": {
    "ExecuteTime": {
     "end_time": "2021-06-13T11:31:04.637821Z",
     "start_time": "2021-06-13T11:31:03.941676Z"
    }
   },
   "outputs": [],
   "source": [
    "p=tf.argmax(MLP.predict(x_test),axis=1)"
   ]
  },
  {
   "cell_type": "code",
   "execution_count": 30,
   "metadata": {
    "ExecuteTime": {
     "end_time": "2021-06-13T12:08:12.966936Z",
     "start_time": "2021-06-13T12:08:12.951946Z"
    }
   },
   "outputs": [],
   "source": [
    "def label_back(label):\n",
    "    label_new=label.tolist()\n",
    "    \n",
    "    for i in range(len(label_new)):\n",
    "        if label_new[i]==0:\n",
    "            label_new[i]=5\n",
    "            \n",
    "    return label_new"
   ]
  },
  {
   "cell_type": "code",
   "execution_count": 31,
   "metadata": {
    "ExecuteTime": {
     "end_time": "2021-06-13T12:08:45.484548Z",
     "start_time": "2021-06-13T12:08:45.453270Z"
    }
   },
   "outputs": [],
   "source": [
    "label_truth=label_back(y_test)\n",
    "label_predict=label_back(p.numpy())"
   ]
  },
  {
   "cell_type": "code",
   "execution_count": 2,
   "metadata": {
    "ExecuteTime": {
     "end_time": "2021-06-13T12:08:49.466918Z",
     "start_time": "2021-06-13T12:08:49.453921Z"
    },
    "scrolled": true,
    "collapsed": false
   },
   "outputs": [],
   "source": [
    "from utils.score import score"
   ]
  },
  {
   "cell_type": "code",
   "execution_count": 3,
   "metadata": {
    "ExecuteTime": {
     "end_time": "2021-06-13T12:08:50.450218Z",
     "start_time": "2021-06-13T12:08:50.402625Z"
    }
   },
   "outputs": [
    {
     "ename": "NameError",
     "evalue": "name 'label_truth' is not defined",
     "traceback": [
      "\u001b[0;31m---------------------------------------------------------------------------\u001b[0m",
      "\u001b[0;31mNameError\u001b[0m                                 Traceback (most recent call last)",
      "\u001b[0;32m<ipython-input-3-fead9a0af175>\u001b[0m in \u001b[0;36m<module>\u001b[0;34m\u001b[0m\n\u001b[0;32m----> 1\u001b[0;31m \u001b[0mscore\u001b[0m\u001b[0;34m(\u001b[0m\u001b[0mlabel_truth\u001b[0m\u001b[0;34m,\u001b[0m\u001b[0mlabel_predict\u001b[0m\u001b[0;34m,\u001b[0m\u001b[0moutput_filename\u001b[0m\u001b[0;34m=\u001b[0m\u001b[0;34m'mlp.txt'\u001b[0m\u001b[0;34m)\u001b[0m\u001b[0;34m\u001b[0m\u001b[0;34m\u001b[0m\u001b[0m\n\u001b[0m",
      "\u001b[0;31mNameError\u001b[0m: name 'label_truth' is not defined"
     ],
     "output_type": "error"
    }
   ],
   "source": [
    "score(label_truth,label_predict,output_filename='mlp.txt')"
   ]
  },
  {
   "cell_type": "code",
   "execution_count": null,
   "metadata": {},
   "outputs": [],
   "source": []
  }
 ],
 "metadata": {
  "kernelspec": {
   "display_name": "Python 3",
   "language": "python",
   "name": "python3"
  },
  "language_info": {
   "codemirror_mode": {
    "name": "ipython",
    "version": 3
   },
   "file_extension": ".py",
   "mimetype": "text/x-python",
   "name": "python",
   "nbconvert_exporter": "python",
   "pygments_lexer": "ipython3",
   "version": "3.7.0"
  }
 },
 "nbformat": 4,
 "nbformat_minor": 5
}
