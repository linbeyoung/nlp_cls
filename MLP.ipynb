{
 "cells": [
  {
   "cell_type": "code",
   "execution_count": 1,
   "id": "unlike-humanitarian",
   "metadata": {
    "ExecuteTime": {
     "end_time": "2021-06-15T10:55:28.911033Z",
     "start_time": "2021-06-15T10:54:04.346307Z"
    }
   },
   "outputs": [
    {
     "name": "stderr",
     "output_type": "stream",
     "text": [
      "C:\\Users\\liufeng\\.conda\\envs\\pytorch\\lib\\site-packages\\gensim\\similarities\\__init__.py:15: UserWarning: The gensim.similarities.levenshtein submodule is disabled, because the optional Levenshtein package <https://pypi.org/project/python-Levenshtein/> is unavailable. Install Levenhstein (e.g. `pip install python-Levenshtein`) to suppress this warning.\n",
      "  warnings.warn(msg)\n"
     ]
    },
    {
     "name": "stdout",
     "output_type": "stream",
     "text": [
      "加载词向量...\n"
     ]
    }
   ],
   "source": [
    "import tensorflow as tf\n",
    "\n",
    "from tensorflow.keras.layers import Dense, Flatten\n",
    "from utils.lf.load_data import load_data_mlp"
   ]
  },
  {
   "cell_type": "code",
   "execution_count": null,
   "id": "guided-debate",
   "metadata": {
    "ExecuteTime": {
     "start_time": "2021-06-15T10:54:08.411Z"
    }
   },
   "outputs": [
    {
     "name": "stderr",
     "output_type": "stream",
     "text": [
      "  0%|                                                                                                             | 0/198566 [00:00<?, ?it/s]Building prefix dict from the default dictionary ...\n",
      "Loading model from cache C:\\Users\\liufeng\\AppData\\Local\\Temp\\jieba.cache\n"
     ]
    },
    {
     "name": "stdout",
     "output_type": "stream",
     "text": [
      "加载完成，测试集比例0.2\n",
      "训练集198566条\n",
      "测试集49642条\n"
     ]
    },
    {
     "name": "stderr",
     "output_type": "stream",
     "text": [
      "Loading model cost 0.592 seconds.\n",
      "Prefix dict has been built succesfully.\n",
      "100%|██████████████████████████████████████████████████████████████████████████████████████████████| 198566/198566 [00:39<00:00, 5042.31it/s]\n",
      "100%|████████████████████████████████████████████████████████████████████████████████████████████| 198566/198566 [00:00<00:00, 477712.94it/s]\n",
      "100%|████████████████████████████████████████████████████████████████████████████████████████████████| 49642/49642 [00:10<00:00, 4946.37it/s]\n",
      "100%|██████████████████████████████████████████████████████████████████████████████████████████████| 49642/49642 [00:00<00:00, 443135.03it/s]\n",
      "100%|█████████████████████████████████████████████████████████████████████████████████████████████| 198566/198566 [00:11<00:00, 17414.47it/s]\n",
      "100%|████████████████████████████████████████████████████████████████████████████████████████████████| 49642/49642 [00:09<00:00, 5099.35it/s]\n"
     ]
    }
   ],
   "source": [
    "(x_train,y_train),(x_test,y_test)=load_data_mlp()"
   ]
  },
  {
   "cell_type": "code",
   "execution_count": 3,
   "id": "elementary-style",
   "metadata": {
    "ExecuteTime": {
     "end_time": "2021-06-13T11:29:27.965538Z",
     "start_time": "2021-06-13T11:29:27.936648Z"
    }
   },
   "outputs": [],
   "source": [
    "MLP=tf.keras.models.Sequential([\n",
    "    Flatten(),\n",
    "    Dense(128,activation='relu'),\n",
    "    Dense(64,activation='relu'),\n",
    "    Dense(4,activation='softmax')\n",
    "])"
   ]
  },
  {
   "cell_type": "code",
   "execution_count": 4,
   "id": "hawaiian-soviet",
   "metadata": {
    "ExecuteTime": {
     "end_time": "2021-06-13T11:29:27.981582Z",
     "start_time": "2021-06-13T11:29:27.967520Z"
    }
   },
   "outputs": [],
   "source": [
    "MLP.compile(\n",
    "    optimizer='adam',\n",
    "    loss=tf.keras.losses.SparseCategoricalCrossentropy(from_logits=False),\n",
    "    metrics=['sparse_categorical_accuracy']\n",
    ")"
   ]
  },
  {
   "cell_type": "code",
   "execution_count": 5,
   "id": "favorite-problem",
   "metadata": {
    "ExecuteTime": {
     "end_time": "2021-06-13T11:31:03.939674Z",
     "start_time": "2021-06-13T11:29:33.710365Z"
    }
   },
   "outputs": [
    {
     "name": "stdout",
     "output_type": "stream",
     "text": [
      "Train on 37884 samples, validate on 9472 samples\n",
      "Epoch 1/20\n",
      "37884/37884 [==============================] - 5s 134us/sample - loss: 0.3317 - sparse_categorical_accuracy: 0.8768 - val_loss: 0.2862 - val_sparse_categorical_accuracy: 0.8954\n",
      "Epoch 2/20\n",
      "37884/37884 [==============================] - 4s 113us/sample - loss: 0.2041 - sparse_categorical_accuracy: 0.9246 - val_loss: 0.2773 - val_sparse_categorical_accuracy: 0.9052\n",
      "Epoch 3/20\n",
      "37884/37884 [==============================] - 4s 113us/sample - loss: 0.1554 - sparse_categorical_accuracy: 0.9432 - val_loss: 0.3017 - val_sparse_categorical_accuracy: 0.9038\n",
      "Epoch 4/20\n",
      "37884/37884 [==============================] - 4s 113us/sample - loss: 0.1219 - sparse_categorical_accuracy: 0.9549 - val_loss: 0.3261 - val_sparse_categorical_accuracy: 0.8965\n",
      "Epoch 5/20\n",
      "37884/37884 [==============================] - 4s 113us/sample - loss: 0.0843 - sparse_categorical_accuracy: 0.9704 - val_loss: 0.3605 - val_sparse_categorical_accuracy: 0.9030\n",
      "Epoch 6/20\n",
      "37884/37884 [==============================] - 4s 113us/sample - loss: 0.0633 - sparse_categorical_accuracy: 0.9781 - val_loss: 0.4690 - val_sparse_categorical_accuracy: 0.8897\n",
      "Epoch 7/20\n",
      "37884/37884 [==============================] - 4s 113us/sample - loss: 0.0571 - sparse_categorical_accuracy: 0.9804 - val_loss: 0.4429 - val_sparse_categorical_accuracy: 0.9070\n",
      "Epoch 8/20\n",
      "37884/37884 [==============================] - 4s 113us/sample - loss: 0.0462 - sparse_categorical_accuracy: 0.9839 - val_loss: 0.5127 - val_sparse_categorical_accuracy: 0.9032\n",
      "Epoch 9/20\n",
      "37884/37884 [==============================] - 4s 114us/sample - loss: 0.0396 - sparse_categorical_accuracy: 0.9865 - val_loss: 0.5324 - val_sparse_categorical_accuracy: 0.9030\n",
      "Epoch 10/20\n",
      "37884/37884 [==============================] - 4s 115us/sample - loss: 0.0356 - sparse_categorical_accuracy: 0.9876 - val_loss: 0.5506 - val_sparse_categorical_accuracy: 0.9047\n",
      "Epoch 11/20\n",
      "37884/37884 [==============================] - 4s 114us/sample - loss: 0.0358 - sparse_categorical_accuracy: 0.9877 - val_loss: 0.6618 - val_sparse_categorical_accuracy: 0.8924\n",
      "Epoch 12/20\n",
      "37884/37884 [==============================] - 4s 114us/sample - loss: 0.0310 - sparse_categorical_accuracy: 0.9899 - val_loss: 0.6047 - val_sparse_categorical_accuracy: 0.9051\n",
      "Epoch 13/20\n",
      "37884/37884 [==============================] - 4s 113us/sample - loss: 0.0283 - sparse_categorical_accuracy: 0.9907 - val_loss: 0.6165 - val_sparse_categorical_accuracy: 0.8986\n",
      "Epoch 14/20\n",
      "37884/37884 [==============================] - 4s 114us/sample - loss: 0.0236 - sparse_categorical_accuracy: 0.9918 - val_loss: 0.6443 - val_sparse_categorical_accuracy: 0.9007\n",
      "Epoch 15/20\n",
      "37884/37884 [==============================] - 4s 114us/sample - loss: 0.0320 - sparse_categorical_accuracy: 0.9892 - val_loss: 0.6077 - val_sparse_categorical_accuracy: 0.9083\n",
      "Epoch 16/20\n",
      "37884/37884 [==============================] - 4s 113us/sample - loss: 0.0198 - sparse_categorical_accuracy: 0.9927 - val_loss: 0.7032 - val_sparse_categorical_accuracy: 0.9042\n",
      "Epoch 17/20\n",
      "37884/37884 [==============================] - 4s 113us/sample - loss: 0.0207 - sparse_categorical_accuracy: 0.9923 - val_loss: 0.7338 - val_sparse_categorical_accuracy: 0.8978\n",
      "Epoch 18/20\n",
      "37884/37884 [==============================] - 4s 114us/sample - loss: 0.0259 - sparse_categorical_accuracy: 0.9914 - val_loss: 0.6650 - val_sparse_categorical_accuracy: 0.9049\n",
      "Epoch 19/20\n",
      "37884/37884 [==============================] - 4s 113us/sample - loss: 0.0192 - sparse_categorical_accuracy: 0.9933 - val_loss: 0.7590 - val_sparse_categorical_accuracy: 0.9019\n",
      "Epoch 20/20\n",
      "37884/37884 [==============================] - 4s 114us/sample - loss: 0.0179 - sparse_categorical_accuracy: 0.9939 - val_loss: 0.7272 - val_sparse_categorical_accuracy: 0.9046\n"
     ]
    },
    {
     "data": {
      "text/plain": [
       "<tensorflow.python.keras.callbacks.History at 0x1cf3acbea90>"
      ]
     },
     "execution_count": 5,
     "metadata": {},
     "output_type": "execute_result"
    }
   ],
   "source": [
    "MLP.fit(x_train,y_train,batch_size=32,epochs=20,validation_data=(x_test,y_test),validation_freq=1)"
   ]
  },
  {
   "cell_type": "code",
   "execution_count": 6,
   "id": "military-analyst",
   "metadata": {
    "ExecuteTime": {
     "end_time": "2021-06-13T11:31:04.637821Z",
     "start_time": "2021-06-13T11:31:03.941676Z"
    }
   },
   "outputs": [],
   "source": [
    "p=tf.argmax(MLP.predict(x_test),axis=1)"
   ]
  },
  {
   "cell_type": "code",
   "execution_count": 30,
   "id": "defensive-taylor",
   "metadata": {
    "ExecuteTime": {
     "end_time": "2021-06-13T12:08:12.966936Z",
     "start_time": "2021-06-13T12:08:12.951946Z"
    }
   },
   "outputs": [],
   "source": [
    "def label_back(label):\n",
    "    label_new=label.tolist()\n",
    "    \n",
    "    for i in range(len(label_new)):\n",
    "        if label_new[i]==0:\n",
    "            label_new[i]=5\n",
    "            \n",
    "    return label_new"
   ]
  },
  {
   "cell_type": "code",
   "execution_count": 31,
   "id": "daily-oxygen",
   "metadata": {
    "ExecuteTime": {
     "end_time": "2021-06-13T12:08:45.484548Z",
     "start_time": "2021-06-13T12:08:45.453270Z"
    }
   },
   "outputs": [],
   "source": [
    "label_truth=label_back(y_test)\n",
    "label_predict=label_back(p.numpy())"
   ]
  },
  {
   "cell_type": "code",
   "execution_count": 32,
   "id": "theoretical-battery",
   "metadata": {
    "ExecuteTime": {
     "end_time": "2021-06-13T12:08:49.466918Z",
     "start_time": "2021-06-13T12:08:49.453921Z"
    },
    "scrolled": true
   },
   "outputs": [],
   "source": [
    "from utils.score import score"
   ]
  },
  {
   "cell_type": "code",
   "execution_count": 33,
   "id": "attended-fiber",
   "metadata": {
    "ExecuteTime": {
     "end_time": "2021-06-13T12:08:50.450218Z",
     "start_time": "2021-06-13T12:08:50.402625Z"
    }
   },
   "outputs": [
    {
     "data": {
      "text/html": [
       "<div>\n",
       "<style scoped>\n",
       "    .dataframe tbody tr th:only-of-type {\n",
       "        vertical-align: middle;\n",
       "    }\n",
       "\n",
       "    .dataframe tbody tr th {\n",
       "        vertical-align: top;\n",
       "    }\n",
       "\n",
       "    .dataframe thead th {\n",
       "        text-align: right;\n",
       "    }\n",
       "</style>\n",
       "<table border=\"1\" class=\"dataframe\">\n",
       "  <thead>\n",
       "    <tr style=\"text-align: right;\">\n",
       "      <th></th>\n",
       "      <th>Precision</th>\n",
       "      <th>Recall</th>\n",
       "      <th>F1</th>\n",
       "    </tr>\n",
       "  </thead>\n",
       "  <tbody>\n",
       "    <tr>\n",
       "      <th>军事新闻</th>\n",
       "      <td>0.95</td>\n",
       "      <td>0.93</td>\n",
       "      <td>0.94</td>\n",
       "    </tr>\n",
       "    <tr>\n",
       "      <th>体育新闻</th>\n",
       "      <td>0.96</td>\n",
       "      <td>0.94</td>\n",
       "      <td>0.95</td>\n",
       "    </tr>\n",
       "    <tr>\n",
       "      <th>晋江小说</th>\n",
       "      <td>0.87</td>\n",
       "      <td>0.92</td>\n",
       "      <td>0.89</td>\n",
       "    </tr>\n",
       "    <tr>\n",
       "      <th>电影短评</th>\n",
       "      <td>0.90</td>\n",
       "      <td>0.87</td>\n",
       "      <td>0.88</td>\n",
       "    </tr>\n",
       "    <tr>\n",
       "      <th>综合</th>\n",
       "      <td>0.90</td>\n",
       "      <td>0.90</td>\n",
       "      <td>0.90</td>\n",
       "    </tr>\n",
       "  </tbody>\n",
       "</table>\n",
       "</div>"
      ],
      "text/plain": [
       "      Precision  Recall    F1\n",
       "军事新闻       0.95    0.93  0.94\n",
       "体育新闻       0.96    0.94  0.95\n",
       "晋江小说       0.87    0.92  0.89\n",
       "电影短评       0.90    0.87  0.88\n",
       "综合         0.90    0.90  0.90"
      ]
     },
     "metadata": {},
     "output_type": "display_data"
    },
    {
     "name": "stdout",
     "output_type": "stream",
     "text": [
      "\n",
      "结果保存在mlp.txt\n"
     ]
    }
   ],
   "source": [
    "score(label_truth,label_predict,output_filename='mlp.txt')"
   ]
  }
 ],
 "metadata": {
  "kernelspec": {
   "display_name": "Python 3",
   "language": "python",
   "name": "python3"
  },
  "language_info": {
   "codemirror_mode": {
    "name": "ipython",
    "version": 3
   },
   "file_extension": ".py",
   "mimetype": "text/x-python",
   "name": "python",
   "nbconvert_exporter": "python",
   "pygments_lexer": "ipython3",
   "version": "3.7.0"
  }
 },
 "nbformat": 4,
 "nbformat_minor": 5
}
